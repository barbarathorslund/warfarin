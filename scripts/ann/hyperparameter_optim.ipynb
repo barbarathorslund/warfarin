{
 "cells": [
  {
   "cell_type": "markdown",
   "id": "spiritual-woman",
   "metadata": {},
   "source": [
    "# Prediction of warfarin dose"
   ]
  },
  {
   "cell_type": "markdown",
   "id": "final-virgin",
   "metadata": {},
   "source": [
    "## Libraries"
   ]
  },
  {
   "cell_type": "markdown",
   "id": "regional-collection",
   "metadata": {},
   "source": [
    "Import libraries"
   ]
  },
  {
   "cell_type": "code",
   "execution_count": 3,
   "id": "realistic-haiti",
   "metadata": {},
   "outputs": [],
   "source": [
    "import os\n",
    "import torch\n",
    "import torch.nn as nn\n",
    "import torch.functional as F\n",
    "import torch.optim as optim\n",
    "\n",
    "import optuna\n",
    "\n",
    "from torchvision import transforms\n",
    "from torch.utils.data import Dataset, DataLoader, ConcatDataset, SubsetRandomSampler\n",
    "\n",
    "from sklearn.model_selection import KFold\n",
    "\n",
    "import math\n",
    "import pandas as pd\n",
    "import numpy as np\n",
    "import pylab\n",
    "import plotly\n",
    "\n",
    "from model import PicsModel\n",
    "from data_loader import PicsDataLoader"
   ]
  },
  {
   "cell_type": "markdown",
   "id": "hazardous-lodging",
   "metadata": {},
   "source": [
    "## CUDA setup"
   ]
  },
  {
   "cell_type": "markdown",
   "id": "married-scanning",
   "metadata": {},
   "source": [
    "Setting device on GPU if available, else CPU. "
   ]
  },
  {
   "cell_type": "code",
   "execution_count": 4,
   "id": "accessible-brother",
   "metadata": {},
   "outputs": [
    {
     "name": "stdout",
     "output_type": "stream",
     "text": [
      "Using device: cuda\n",
      "GeForce GTX 970\n"
     ]
    }
   ],
   "source": [
    "device = torch.device('cuda' if torch.cuda.is_available() else 'cpu')\n",
    "\n",
    "print('Using device:', device)\n",
    "\n",
    "if device.type == 'cuda':\n",
    "    print(torch.cuda.get_device_name(0))"
   ]
  },
  {
   "cell_type": "markdown",
   "id": "fuzzy-reverse",
   "metadata": {},
   "source": [
    "## Utility functions"
   ]
  },
  {
   "cell_type": "code",
   "execution_count": 5,
   "id": "dutch-consortium",
   "metadata": {},
   "outputs": [],
   "source": [
    "def reset_weights(m):\n",
    "    '''\n",
    "    Try resetting model weights to avoid weight leakage.\n",
    "    '''\n",
    "    for layer in m.children():\n",
    "        if hasattr(layer, 'reset_parameters'):\n",
    "            #print(f'Reset trainable parameters of layer = {layer}')\n",
    "            layer.reset_parameters()\n",
    "\n",
    "def mae(pred, labels):\n",
    "    \"\"\" Returns mean absolute error\"\"\"\n",
    "    err = torch.abs(labels - pred)\n",
    "    return torch.mean(err).item()"
   ]
  },
  {
   "cell_type": "markdown",
   "id": "supported-anniversary",
   "metadata": {},
   "source": [
    "## Training"
   ]
  },
  {
   "cell_type": "markdown",
   "id": "forbidden-legislature",
   "metadata": {},
   "source": [
    "Trains the PICS model using cross validation"
   ]
  },
  {
   "cell_type": "code",
   "execution_count": 6,
   "id": "confidential-giant",
   "metadata": {},
   "outputs": [],
   "source": [
    "def train(params):\n",
    "    # configuration\n",
    "    k_folds = 5\n",
    "    \n",
    "    num_epochs = params['epochs']\n",
    "    loss_function = nn.MSELoss()\n",
    "\n",
    "    # to store fold results\n",
    "    results = {}\n",
    "\n",
    "    # set fixed random number seed\n",
    "    torch.manual_seed(42)\n",
    "\n",
    "    # prepare pics training datasets\n",
    "    dataset_train_part = PicsDataLoader(\"data/pics_training_data_no_na.csv\")\n",
    "    \n",
    "    # k-fold cross validator\n",
    "    kfold = KFold(n_splits=k_folds, shuffle=True)\n",
    "\n",
    "    # k-fold Cross validation model evaluation\n",
    "    for fold, (train_ids, test_ids) in enumerate(kfold.split(dataset_train_part)):\n",
    "\n",
    "        # sample elements randomly from a given list of ids, no replacement.\n",
    "        train_subsampler = torch.utils.data.SubsetRandomSampler(train_ids)\n",
    "        test_subsampler = torch.utils.data.SubsetRandomSampler(test_ids)\n",
    "\n",
    "        # define data loaders for training and testing data in this fold\n",
    "        trainloader = torch.utils.data.DataLoader(\n",
    "            dataset_train_part,\n",
    "            batch_size=params['batch'], sampler=train_subsampler)\n",
    "        \n",
    "        testloader = torch.utils.data.DataLoader(\n",
    "            dataset_train_part,\n",
    "            batch_size=params['batch'], sampler=test_subsampler)\n",
    "\n",
    "        # init the neural network\n",
    "        network = PicsModel(params['hidden_neurons']).to(device)\n",
    "        network.apply(reset_weights)\n",
    "\n",
    "        # initialize optimizer\n",
    "        optimizer = torch.optim.Adam(network.parameters(), lr=params['learning_rate'])\n",
    "\n",
    "        # run the training loop for defined number of epochs\n",
    "        for epoch in range(0, num_epochs):\n",
    "\n",
    "            # set current loss value\n",
    "            current_loss = 0.0\n",
    "\n",
    "            # iterate over the DataLoader for training data\n",
    "            for i, data in enumerate(trainloader, 0):\n",
    "\n",
    "                # get inputs\n",
    "                inputs, targets = data\n",
    "                \n",
    "                # move to gpu if possible\n",
    "                inputs = inputs.to(device)\n",
    "                targets = targets.to(device)\n",
    "\n",
    "                # zero the gradients\n",
    "                optimizer.zero_grad()\n",
    "\n",
    "                # perform forward pass\n",
    "                outputs = network(inputs)\n",
    "\n",
    "                # compute loss\n",
    "                loss = loss_function(outputs.flatten(), targets.flatten())\n",
    "\n",
    "                # perform backward pass\n",
    "                loss.backward()\n",
    "\n",
    "                # perform optimization\n",
    "                optimizer.step()\n",
    "\n",
    "        # validation for this fold\n",
    "        accuracy, total = 0, 0\n",
    "        with torch.no_grad():\n",
    "\n",
    "            # Iterate over the test data and generate predictions\n",
    "            for i, data in enumerate(testloader, 0):\n",
    "                inputs, targets = data\n",
    "                \n",
    "                inputs = inputs.to(device)\n",
    "                targets = targets.to(device)\n",
    "                \n",
    "                outputs = network(inputs)\n",
    "                \n",
    "                loss = loss_function(outputs.flatten(), targets.flatten())\n",
    "                \n",
    "                accuracy += mae(outputs, targets)\n",
    "                total += 1\n",
    "\n",
    "            results[fold] = math.pow(math.e, (accuracy/total))\n",
    "\n",
    "    # print validation for the fold\n",
    "    sum = 0.0\n",
    "    for key, value in results.items():\n",
    "        print(f'Fold {key}: {value} MAE')\n",
    "        sum += value\n",
    "        \n",
    "    print(f'Average: {sum/len(results.items())} MAE')\n",
    "    \n",
    "    # return mean MAE\n",
    "    return sum/len(results.items())"
   ]
  },
  {
   "cell_type": "markdown",
   "id": "extensive-quick",
   "metadata": {},
   "source": [
    "## Optuna finetuning"
   ]
  },
  {
   "cell_type": "markdown",
   "id": "lesbian-diploma",
   "metadata": {},
   "source": [
    "Hyperparameter tuning using the following parameter ranges"
   ]
  },
  {
   "cell_type": "code",
   "execution_count": 25,
   "id": "impossible-geneva",
   "metadata": {},
   "outputs": [
    {
     "name": "stderr",
     "output_type": "stream",
     "text": [
      "\u001b[32m[I 2021-07-08 16:49:28,045]\u001b[0m A new study created in memory with name: no-name-47756a2d-ab06-4d32-bd2c-69b8c9acf849\u001b[0m\n",
      "\u001b[32m[I 2021-07-08 16:49:35,503]\u001b[0m Trial 0 finished with value: 2.737425170178023 and parameters: {'hidden_neurons': 76, 'learning_rate': 2.569338007606602e-05, 'batch': 154, 'epoch': 41}. Best is trial 0 with value: 2.737425170178023.\u001b[0m\n"
     ]
    },
    {
     "name": "stdout",
     "output_type": "stream",
     "text": [
      "Fold 0: 1.8494090715983342 MAE\n",
      "Fold 1: 1.873997726203261 MAE\n",
      "Fold 2: 1.839288815475979 MAE\n",
      "Fold 3: 1.8671525190049518 MAE\n",
      "Fold 4: 6.257277718607588 MAE\n",
      "Average: 2.737425170178023 MAE\n"
     ]
    },
    {
     "name": "stderr",
     "output_type": "stream",
     "text": [
      "\u001b[32m[I 2021-07-08 16:49:46,760]\u001b[0m Trial 1 finished with value: 2.3245185039235343 and parameters: {'hidden_neurons': 507, 'learning_rate': 1.13753118405591e-06, 'batch': 47, 'epoch': 28}. Best is trial 1 with value: 2.3245185039235343.\u001b[0m\n"
     ]
    },
    {
     "name": "stdout",
     "output_type": "stream",
     "text": [
      "Fold 0: 2.103633736426897 MAE\n",
      "Fold 1: 2.4862797471509324 MAE\n",
      "Fold 2: 2.4174792499040976 MAE\n",
      "Fold 3: 2.3597644466459715 MAE\n",
      "Fold 4: 2.2554353394897744 MAE\n",
      "Average: 2.3245185039235343 MAE\n"
     ]
    },
    {
     "name": "stderr",
     "output_type": "stream",
     "text": [
      "\u001b[32m[I 2021-07-08 16:49:50,770]\u001b[0m Trial 2 finished with value: 3.5883448717589252 and parameters: {'hidden_neurons': 205, 'learning_rate': 3.1502990804934955e-05, 'batch': 166, 'epoch': 23}. Best is trial 1 with value: 2.3245185039235343.\u001b[0m\n"
     ]
    },
    {
     "name": "stdout",
     "output_type": "stream",
     "text": [
      "Fold 0: 1.8106768593225047 MAE\n",
      "Fold 1: 1.8532618221459585 MAE\n",
      "Fold 2: 1.8463171548244013 MAE\n",
      "Fold 3: 6.117202704013513 MAE\n",
      "Fold 4: 6.314265818488249 MAE\n",
      "Average: 3.5883448717589252 MAE\n"
     ]
    },
    {
     "name": "stderr",
     "output_type": "stream",
     "text": [
      "\u001b[32m[I 2021-07-08 16:49:54,302]\u001b[0m Trial 3 finished with value: 4.429328488789858 and parameters: {'hidden_neurons': 373, 'learning_rate': 1.3287379775657362e-06, 'batch': 80, 'epoch': 13}. Best is trial 1 with value: 2.3245185039235343.\u001b[0m\n"
     ]
    },
    {
     "name": "stdout",
     "output_type": "stream",
     "text": [
      "Fold 0: 4.028991175682822 MAE\n",
      "Fold 1: 4.1637091519064935 MAE\n",
      "Fold 2: 4.511061117159297 MAE\n",
      "Fold 3: 4.606191715178737 MAE\n",
      "Fold 4: 4.836689284021947 MAE\n",
      "Average: 4.429328488789858 MAE\n"
     ]
    },
    {
     "name": "stderr",
     "output_type": "stream",
     "text": [
      "\u001b[32m[I 2021-07-08 16:49:58,731]\u001b[0m Trial 4 finished with value: 1.7443734963346675 and parameters: {'hidden_neurons': 624, 'learning_rate': 0.0022207423427181515, 'batch': 129, 'epoch': 22}. Best is trial 4 with value: 1.7443734963346675.\u001b[0m\n"
     ]
    },
    {
     "name": "stdout",
     "output_type": "stream",
     "text": [
      "Fold 0: 1.7104122356698122 MAE\n",
      "Fold 1: 1.8235972708043184 MAE\n",
      "Fold 2: 1.7522385320206548 MAE\n",
      "Fold 3: 1.7436177471513021 MAE\n",
      "Fold 4: 1.692001696027251 MAE\n",
      "Average: 1.7443734963346675 MAE\n"
     ]
    },
    {
     "name": "stderr",
     "output_type": "stream",
     "text": [
      "\u001b[32m[I 2021-07-08 16:50:00,640]\u001b[0m Trial 5 finished with value: 5.287061991849042 and parameters: {'hidden_neurons': 155, 'learning_rate': 7.521694120675221e-06, 'batch': 244, 'epoch': 11}. Best is trial 4 with value: 1.7443734963346675.\u001b[0m\n"
     ]
    },
    {
     "name": "stdout",
     "output_type": "stream",
     "text": [
      "Fold 0: 3.6515674314349 MAE\n",
      "Fold 1: 4.440937349784573 MAE\n",
      "Fold 2: 6.376990830021558 MAE\n",
      "Fold 3: 5.98965501686649 MAE\n",
      "Fold 4: 5.976159331137683 MAE\n",
      "Average: 5.287061991849042 MAE\n"
     ]
    },
    {
     "name": "stderr",
     "output_type": "stream",
     "text": [
      "\u001b[32m[I 2021-07-08 16:50:04,957]\u001b[0m Trial 6 finished with value: 2.664664640437672 and parameters: {'hidden_neurons': 978, 'learning_rate': 1.0034724391230749e-05, 'batch': 159, 'epoch': 24}. Best is trial 4 with value: 1.7443734963346675.\u001b[0m\n"
     ]
    },
    {
     "name": "stdout",
     "output_type": "stream",
     "text": [
      "Fold 0: 1.8526310310708047 MAE\n",
      "Fold 1: 1.8323200531589592 MAE\n",
      "Fold 2: 1.8840433196855344 MAE\n",
      "Fold 3: 5.946004852057508 MAE\n",
      "Fold 4: 1.8083239462155538 MAE\n",
      "Average: 2.664664640437672 MAE\n"
     ]
    },
    {
     "name": "stderr",
     "output_type": "stream",
     "text": [
      "\u001b[32m[I 2021-07-08 16:50:09,467]\u001b[0m Trial 7 finished with value: 5.396433187426948 and parameters: {'hidden_neurons': 56, 'learning_rate': 1.8585724498501517e-06, 'batch': 173, 'epoch': 26}. Best is trial 4 with value: 1.7443734963346675.\u001b[0m\n"
     ]
    },
    {
     "name": "stdout",
     "output_type": "stream",
     "text": [
      "Fold 0: 4.35749089970351 MAE\n",
      "Fold 1: 5.114909397196073 MAE\n",
      "Fold 2: 5.9917974675013275 MAE\n",
      "Fold 3: 5.419774977087704 MAE\n",
      "Fold 4: 6.098193195646123 MAE\n",
      "Average: 5.396433187426948 MAE\n"
     ]
    },
    {
     "name": "stderr",
     "output_type": "stream",
     "text": [
      "\u001b[32m[I 2021-07-08 16:51:00,338]\u001b[0m Trial 8 finished with value: 1.7423833664401953 and parameters: {'hidden_neurons': 594, 'learning_rate': 2.6849563588037567e-05, 'batch': 9, 'epoch': 28}. Best is trial 8 with value: 1.7423833664401953.\u001b[0m\n"
     ]
    },
    {
     "name": "stdout",
     "output_type": "stream",
     "text": [
      "Fold 0: 1.7427159025579702 MAE\n",
      "Fold 1: 1.7667934051532783 MAE\n",
      "Fold 2: 1.7329985775365562 MAE\n",
      "Fold 3: 1.7472228890989834 MAE\n",
      "Fold 4: 1.7221860578541892 MAE\n",
      "Average: 1.7423833664401953 MAE\n"
     ]
    },
    {
     "name": "stderr",
     "output_type": "stream",
     "text": [
      "\u001b[32m[I 2021-07-08 16:51:06,222]\u001b[0m Trial 9 finished with value: 1.7740656870155829 and parameters: {'hidden_neurons': 493, 'learning_rate': 0.005019697077006275, 'batch': 205, 'epoch': 37}. Best is trial 8 with value: 1.7423833664401953.\u001b[0m\n"
     ]
    },
    {
     "name": "stdout",
     "output_type": "stream",
     "text": [
      "Fold 0: 1.8050086758447061 MAE\n",
      "Fold 1: 1.7257713851417378 MAE\n",
      "Fold 2: 1.777925228542913 MAE\n",
      "Fold 3: 1.7513719076011682 MAE\n",
      "Fold 4: 1.8102512379473887 MAE\n",
      "Average: 1.7740656870155829 MAE\n"
     ]
    },
    {
     "name": "stderr",
     "output_type": "stream",
     "text": [
      "\u001b[32m[I 2021-07-08 16:51:48,008]\u001b[0m Trial 10 finished with value: 1.7551805125544668 and parameters: {'hidden_neurons': 793, 'learning_rate': 0.0002757982478260369, 'batch': 20, 'epoch': 49}. Best is trial 8 with value: 1.7423833664401953.\u001b[0m\n"
     ]
    },
    {
     "name": "stdout",
     "output_type": "stream",
     "text": [
      "Fold 0: 1.7567908001357313 MAE\n",
      "Fold 1: 1.7517161530729244 MAE\n",
      "Fold 2: 1.7114406671116489 MAE\n",
      "Fold 3: 1.7710938998867922 MAE\n",
      "Fold 4: 1.7848610425652367 MAE\n",
      "Average: 1.7551805125544668 MAE\n"
     ]
    },
    {
     "name": "stderr",
     "output_type": "stream",
     "text": [
      "\u001b[32m[I 2021-07-08 16:51:52,167]\u001b[0m Trial 11 finished with value: 1.7577214492944986 and parameters: {'hidden_neurons': 727, 'learning_rate': 0.00044213274488212595, 'batch': 99, 'epoch': 18}. Best is trial 8 with value: 1.7423833664401953.\u001b[0m\n"
     ]
    },
    {
     "name": "stdout",
     "output_type": "stream",
     "text": [
      "Fold 0: 1.7928009993194436 MAE\n",
      "Fold 1: 1.7520634967169644 MAE\n",
      "Fold 2: 1.7545828077403536 MAE\n",
      "Fold 3: 1.7574333332115133 MAE\n",
      "Fold 4: 1.7317266094842183 MAE\n",
      "Average: 1.7577214492944986 MAE\n"
     ]
    },
    {
     "name": "stderr",
     "output_type": "stream",
     "text": [
      "\u001b[32m[I 2021-07-08 16:52:00,521]\u001b[0m Trial 12 finished with value: 1.7566303508538763 and parameters: {'hidden_neurons': 687, 'learning_rate': 0.007332846944056498, 'batch': 102, 'epoch': 37}. Best is trial 8 with value: 1.7423833664401953.\u001b[0m\n"
     ]
    },
    {
     "name": "stdout",
     "output_type": "stream",
     "text": [
      "Fold 0: 1.7836243833031595 MAE\n",
      "Fold 1: 1.7467390111396033 MAE\n",
      "Fold 2: 1.7336274418693627 MAE\n",
      "Fold 3: 1.7766719483656928 MAE\n",
      "Fold 4: 1.7424889695915637 MAE\n",
      "Average: 1.7566303508538763 MAE\n"
     ]
    },
    {
     "name": "stderr",
     "output_type": "stream",
     "text": [
      "\u001b[32m[I 2021-07-08 16:52:06,863]\u001b[0m Trial 13 finished with value: 2.6364780056494017 and parameters: {'hidden_neurons': 863, 'learning_rate': 0.0012886427430643759, 'batch': 60, 'epoch': 19}. Best is trial 8 with value: 1.7423833664401953.\u001b[0m\n"
     ]
    },
    {
     "name": "stdout",
     "output_type": "stream",
     "text": [
      "Fold 0: 1.7131655473543697 MAE\n",
      "Fold 1: 1.80879172181964 MAE\n",
      "Fold 2: 1.684322290282293 MAE\n",
      "Fold 3: 6.1941976032676 MAE\n",
      "Fold 4: 1.7819128655231058 MAE\n",
      "Average: 2.6364780056494017 MAE\n"
     ]
    },
    {
     "name": "stderr",
     "output_type": "stream",
     "text": [
      "\u001b[32m[I 2021-07-08 16:52:13,385]\u001b[0m Trial 14 finished with value: 1.7658409703831583 and parameters: {'hidden_neurons': 624, 'learning_rate': 0.00012266710839787514, 'batch': 134, 'epoch': 33}. Best is trial 8 with value: 1.7423833664401953.\u001b[0m\n"
     ]
    },
    {
     "name": "stdout",
     "output_type": "stream",
     "text": [
      "Fold 0: 1.7386606921179824 MAE\n",
      "Fold 1: 1.7852346070198912 MAE\n",
      "Fold 2: 1.7529509682217048 MAE\n",
      "Fold 3: 1.7941992367851187 MAE\n",
      "Fold 4: 1.758159347771095 MAE\n",
      "Average: 1.7658409703831583 MAE\n"
     ]
    },
    {
     "name": "stderr",
     "output_type": "stream",
     "text": [
      "\u001b[32m[I 2021-07-08 16:53:07,386]\u001b[0m Trial 15 finished with value: 1.7139595586487282 and parameters: {'hidden_neurons': 376, 'learning_rate': 0.0017795585175007721, 'batch': 5, 'epoch': 17}. Best is trial 15 with value: 1.7139595586487282.\u001b[0m\n"
     ]
    },
    {
     "name": "stdout",
     "output_type": "stream",
     "text": [
      "Fold 0: 1.7406401913689709 MAE\n",
      "Fold 1: 1.6948027177573695 MAE\n",
      "Fold 2: 1.7188736302622092 MAE\n",
      "Fold 3: 1.7201717157525613 MAE\n",
      "Fold 4: 1.6953095381025305 MAE\n",
      "Average: 1.7139595586487282 MAE\n"
     ]
    },
    {
     "name": "stderr",
     "output_type": "stream",
     "text": [
      "\u001b[32m[I 2021-07-08 16:53:26,950]\u001b[0m Trial 16 finished with value: 2.6175102417085836 and parameters: {'hidden_neurons': 317, 'learning_rate': 7.161669629217927e-05, 'batch': 28, 'epoch': 31}. Best is trial 15 with value: 1.7139595586487282.\u001b[0m\n"
     ]
    },
    {
     "name": "stdout",
     "output_type": "stream",
     "text": [
      "Fold 0: 1.7843718792759364 MAE\n",
      "Fold 1: 1.7421247320234254 MAE\n",
      "Fold 2: 1.774760427287276 MAE\n",
      "Fold 3: 6.022826636162651 MAE\n",
      "Fold 4: 1.763467533793629 MAE\n",
      "Average: 2.6175102417085836 MAE\n"
     ]
    },
    {
     "name": "stderr",
     "output_type": "stream",
     "text": [
      "\u001b[32m[I 2021-07-08 16:53:53,366]\u001b[0m Trial 17 finished with value: 1.731564002337397 and parameters: {'hidden_neurons': 383, 'learning_rate': 0.0004541614782705644, 'batch': 8, 'epoch': 13}. Best is trial 15 with value: 1.7139595586487282.\u001b[0m\n"
     ]
    },
    {
     "name": "stdout",
     "output_type": "stream",
     "text": [
      "Fold 0: 1.7302812498027313 MAE\n",
      "Fold 1: 1.748097260440738 MAE\n",
      "Fold 2: 1.7562474764958782 MAE\n",
      "Fold 3: 1.7452240977480242 MAE\n",
      "Fold 4: 1.6779699271996125 MAE\n",
      "Average: 1.731564002337397 MAE\n"
     ]
    },
    {
     "name": "stderr",
     "output_type": "stream",
     "text": [
      "\u001b[32m[I 2021-07-08 16:54:23,694]\u001b[0m Trial 18 finished with value: 1.7498106401645699 and parameters: {'hidden_neurons': 401, 'learning_rate': 0.0008702814627247181, 'batch': 8, 'epoch': 15}. Best is trial 15 with value: 1.7139595586487282.\u001b[0m\n"
     ]
    },
    {
     "name": "stdout",
     "output_type": "stream",
     "text": [
      "Fold 0: 1.7397268602087492 MAE\n",
      "Fold 1: 1.8569684018329813 MAE\n",
      "Fold 2: 1.6859841945751135 MAE\n",
      "Fold 3: 1.765995052930595 MAE\n",
      "Fold 4: 1.70037869127541 MAE\n",
      "Average: 1.7498106401645699 MAE\n"
     ]
    },
    {
     "name": "stderr",
     "output_type": "stream",
     "text": [
      "\u001b[32m[I 2021-07-08 16:54:27,894]\u001b[0m Trial 19 finished with value: 3.5035581665792783 and parameters: {'hidden_neurons': 288, 'learning_rate': 0.0034583331213746587, 'batch': 46, 'epoch': 10}. Best is trial 15 with value: 1.7139595586487282.\u001b[0m\n"
     ]
    },
    {
     "name": "stdout",
     "output_type": "stream",
     "text": [
      "Fold 0: 1.74215218045797 MAE\n",
      "Fold 1: 1.7511696162632666 MAE\n",
      "Fold 2: 6.10448901160586 MAE\n",
      "Fold 3: 6.1226648065446705 MAE\n",
      "Fold 4: 1.797315218024624 MAE\n",
      "Average: 3.5035581665792783 MAE\n"
     ]
    },
    {
     "name": "stderr",
     "output_type": "stream",
     "text": [
      "\u001b[32m[I 2021-07-08 16:54:32,978]\u001b[0m Trial 20 finished with value: 1.7573104090373555 and parameters: {'hidden_neurons': 434, 'learning_rate': 0.0003281138275690349, 'batch': 70, 'epoch': 17}. Best is trial 15 with value: 1.7139595586487282.\u001b[0m\n"
     ]
    },
    {
     "name": "stdout",
     "output_type": "stream",
     "text": [
      "Fold 0: 1.7625738500501504 MAE\n",
      "Fold 1: 1.7674013447310715 MAE\n",
      "Fold 2: 1.7419203010200006 MAE\n",
      "Fold 3: 1.7748913870002632 MAE\n",
      "Fold 4: 1.7397651623852926 MAE\n",
      "Average: 1.7573104090373555 MAE\n"
     ]
    },
    {
     "name": "stderr",
     "output_type": "stream",
     "text": [
      "\u001b[32m[I 2021-07-08 16:55:04,812]\u001b[0m Trial 21 finished with value: 1.7402277818957803 and parameters: {'hidden_neurons': 570, 'learning_rate': 9.671585813410895e-05, 'batch': 5, 'epoch': 10}. Best is trial 15 with value: 1.7139595586487282.\u001b[0m\n"
     ]
    },
    {
     "name": "stdout",
     "output_type": "stream",
     "text": [
      "Fold 0: 1.7745515799148677 MAE\n",
      "Fold 1: 1.739921422972251 MAE\n",
      "Fold 2: 1.7253986706911706 MAE\n",
      "Fold 3: 1.6994358638366072 MAE\n",
      "Fold 4: 1.7618313720640049 MAE\n",
      "Average: 1.7402277818957803 MAE\n"
     ]
    },
    {
     "name": "stderr",
     "output_type": "stream",
     "text": [
      "\u001b[32m[I 2021-07-08 16:55:27,944]\u001b[0m Trial 22 finished with value: 4.391296330341678 and parameters: {'hidden_neurons': 260, 'learning_rate': 0.0001699480641449775, 'batch': 7, 'epoch': 10}. Best is trial 15 with value: 1.7139595586487282.\u001b[0m\n"
     ]
    },
    {
     "name": "stdout",
     "output_type": "stream",
     "text": [
      "Fold 0: 1.7559815775626553 MAE\n",
      "Fold 1: 1.7365859516615612 MAE\n",
      "Fold 2: 6.100461858752225 MAE\n",
      "Fold 3: 6.204257539998342 MAE\n",
      "Fold 4: 6.159194723733605 MAE\n",
      "Average: 4.391296330341678 MAE\n"
     ]
    },
    {
     "name": "stderr",
     "output_type": "stream",
     "text": [
      "\u001b[32m[I 2021-07-08 16:55:35,077]\u001b[0m Trial 23 finished with value: 1.7524604191562947 and parameters: {'hidden_neurons': 457, 'learning_rate': 0.0006764447245510567, 'batch': 36, 'epoch': 14}. Best is trial 15 with value: 1.7139595586487282.\u001b[0m\n"
     ]
    },
    {
     "name": "stdout",
     "output_type": "stream",
     "text": [
      "Fold 0: 1.7517119717326888 MAE\n",
      "Fold 1: 1.801387417134068 MAE\n",
      "Fold 2: 1.7365815752785734 MAE\n",
      "Fold 3: 1.7274599282061198 MAE\n",
      "Fold 4: 1.7451612034300235 MAE\n",
      "Average: 1.7524604191562947 MAE\n"
     ]
    },
    {
     "name": "stderr",
     "output_type": "stream",
     "text": [
      "\u001b[32m[I 2021-07-08 16:55:49,591]\u001b[0m Trial 24 finished with value: 1.7423650481782293 and parameters: {'hidden_neurons': 539, 'learning_rate': 0.0018544298247652694, 'batch': 24, 'epoch': 20}. Best is trial 15 with value: 1.7139595586487282.\u001b[0m\n"
     ]
    },
    {
     "name": "stdout",
     "output_type": "stream",
     "text": [
      "Fold 0: 1.7714301035286248 MAE\n",
      "Fold 1: 1.715388100782951 MAE\n",
      "Fold 2: 1.732056646768461 MAE\n",
      "Fold 3: 1.7415113542633736 MAE\n",
      "Fold 4: 1.7514390355477358 MAE\n",
      "Average: 1.7423650481782293 MAE\n"
     ]
    },
    {
     "name": "stderr",
     "output_type": "stream",
     "text": [
      "\u001b[32m[I 2021-07-08 16:56:06,205]\u001b[0m Trial 25 finished with value: 1.7640463518902387 and parameters: {'hidden_neurons': 394, 'learning_rate': 7.092967051046635e-05, 'batch': 10, 'epoch': 10}. Best is trial 15 with value: 1.7139595586487282.\u001b[0m\n"
     ]
    },
    {
     "name": "stdout",
     "output_type": "stream",
     "text": [
      "Fold 0: 1.7236432216001885 MAE\n",
      "Fold 1: 1.7175065271483891 MAE\n",
      "Fold 2: 1.7961944211706597 MAE\n",
      "Fold 3: 1.802286644532161 MAE\n",
      "Fold 4: 1.7806009449997948 MAE\n",
      "Average: 1.7640463518902387 MAE\n"
     ]
    },
    {
     "name": "stderr",
     "output_type": "stream",
     "text": [
      "\u001b[32m[I 2021-07-08 16:56:11,689]\u001b[0m Trial 26 finished with value: 2.6313017184505596 and parameters: {'hidden_neurons': 323, 'learning_rate': 0.009753559540859652, 'batch': 53, 'epoch': 15}. Best is trial 15 with value: 1.7139595586487282.\u001b[0m\n"
     ]
    },
    {
     "name": "stdout",
     "output_type": "stream",
     "text": [
      "Fold 0: 1.7143208593119128 MAE\n",
      "Fold 1: 1.7554651260225214 MAE\n",
      "Fold 2: 1.7415537419217264 MAE\n",
      "Fold 3: 6.230160513450419 MAE\n",
      "Fold 4: 1.7150083515462191 MAE\n",
      "Average: 2.6313017184505596 MAE\n"
     ]
    },
    {
     "name": "stderr",
     "output_type": "stream",
     "text": [
      "\u001b[32m[I 2021-07-08 16:56:14,736]\u001b[0m Trial 27 finished with value: 1.7785275306421304 and parameters: {'hidden_neurons': 551, 'learning_rate': 0.00018553662087114321, 'batch': 91, 'epoch': 12}. Best is trial 15 with value: 1.7139595586487282.\u001b[0m\n"
     ]
    },
    {
     "name": "stdout",
     "output_type": "stream",
     "text": [
      "Fold 0: 1.775092320454852 MAE\n",
      "Fold 1: 1.7891625911485272 MAE\n",
      "Fold 2: 1.7901598450786622 MAE\n",
      "Fold 3: 1.7532283836339002 MAE\n",
      "Fold 4: 1.7849945128947113 MAE\n",
      "Average: 1.7785275306421304 MAE\n"
     ]
    },
    {
     "name": "stderr",
     "output_type": "stream",
     "text": [
      "\u001b[32m[I 2021-07-08 16:56:22,346]\u001b[0m Trial 28 finished with value: 4.373593967483747 and parameters: {'hidden_neurons': 201, 'learning_rate': 0.0005294000373008296, 'batch': 39, 'epoch': 16}. Best is trial 15 with value: 1.7139595586487282.\u001b[0m\n"
     ]
    },
    {
     "name": "stdout",
     "output_type": "stream",
     "text": [
      "Fold 0: 1.7723154960442777 MAE\n",
      "Fold 1: 1.7207134415916203 MAE\n",
      "Fold 2: 6.134653530450797 MAE\n",
      "Fold 3: 6.121357100508001 MAE\n",
      "Fold 4: 6.118930268824039 MAE\n",
      "Average: 4.373593967483747 MAE\n"
     ]
    },
    {
     "name": "stderr",
     "output_type": "stream",
     "text": [
      "\u001b[32m[I 2021-07-08 16:56:36,616]\u001b[0m Trial 29 finished with value: 1.7749301471878407 and parameters: {'hidden_neurons': 353, 'learning_rate': 5.4578206084729256e-05, 'batch': 69, 'epoch': 48}. Best is trial 15 with value: 1.7139595586487282.\u001b[0m\n"
     ]
    },
    {
     "name": "stdout",
     "output_type": "stream",
     "text": [
      "Fold 0: 1.7779555016405242 MAE\n",
      "Fold 1: 1.761098343216455 MAE\n",
      "Fold 2: 1.7912944495060317 MAE\n",
      "Fold 3: 1.7747199553075377 MAE\n",
      "Fold 4: 1.769582486268656 MAE\n",
      "Average: 1.7749301471878407 MAE\n"
     ]
    },
    {
     "name": "stderr",
     "output_type": "stream",
     "text": [
      "\u001b[32m[I 2021-07-08 16:57:32,093]\u001b[0m Trial 30 finished with value: 3.4707748448651317 and parameters: {'hidden_neurons': 111, 'learning_rate': 0.0011488853070118039, 'batch': 6, 'epoch': 21}. Best is trial 15 with value: 1.7139595586487282.\u001b[0m\n"
     ]
    },
    {
     "name": "stdout",
     "output_type": "stream",
     "text": [
      "Fold 0: 1.7473841972876327 MAE\n",
      "Fold 1: 1.6854170497678478 MAE\n",
      "Fold 2: 6.014861224980603 MAE\n",
      "Fold 3: 1.7191183420002751 MAE\n",
      "Fold 4: 6.187093410289302 MAE\n",
      "Average: 3.4707748448651317 MAE\n"
     ]
    },
    {
     "name": "stderr",
     "output_type": "stream",
     "text": [
      "\u001b[32m[I 2021-07-08 16:57:49,160]\u001b[0m Trial 31 finished with value: 1.7502010377012591 and parameters: {'hidden_neurons': 540, 'learning_rate': 0.002233272426514673, 'batch': 20, 'epoch': 20}. Best is trial 15 with value: 1.7139595586487282.\u001b[0m\n"
     ]
    },
    {
     "name": "stdout",
     "output_type": "stream",
     "text": [
      "Fold 0: 1.7244242379816888 MAE\n",
      "Fold 1: 1.735769626145657 MAE\n",
      "Fold 2: 1.7620243804807003 MAE\n",
      "Fold 3: 1.7691167623980324 MAE\n",
      "Fold 4: 1.7596701815002167 MAE\n",
      "Average: 1.7502010377012591 MAE\n"
     ]
    },
    {
     "name": "stderr",
     "output_type": "stream",
     "text": [
      "\u001b[32m[I 2021-07-08 16:58:01,791]\u001b[0m Trial 32 finished with value: 1.7540848451032691 and parameters: {'hidden_neurons': 465, 'learning_rate': 0.0021109939397258746, 'batch': 25, 'epoch': 18}. Best is trial 15 with value: 1.7139595586487282.\u001b[0m\n"
     ]
    },
    {
     "name": "stdout",
     "output_type": "stream",
     "text": [
      "Fold 0: 1.7567867837968172 MAE\n",
      "Fold 1: 1.7526517711165184 MAE\n",
      "Fold 2: 1.7837472928596951 MAE\n",
      "Fold 3: 1.7064361830314076 MAE\n",
      "Fold 4: 1.7708021947119075 MAE\n",
      "Average: 1.7540848451032691 MAE\n"
     ]
    },
    {
     "name": "stderr",
     "output_type": "stream",
     "text": [
      "\u001b[32m[I 2021-07-08 16:58:09,332]\u001b[0m Trial 33 finished with value: 1.7552150598490777 and parameters: {'hidden_neurons': 537, 'learning_rate': 0.0013292607677854007, 'batch': 31, 'epoch': 13}. Best is trial 15 with value: 1.7139595586487282.\u001b[0m\n"
     ]
    },
    {
     "name": "stdout",
     "output_type": "stream",
     "text": [
      "Fold 0: 1.785382288714175 MAE\n",
      "Fold 1: 1.7417518333002804 MAE\n",
      "Fold 2: 1.7131511397164636 MAE\n",
      "Fold 3: 1.747928899905999 MAE\n",
      "Fold 4: 1.7878611376084697 MAE\n",
      "Average: 1.7552150598490777 MAE\n"
     ]
    },
    {
     "name": "stderr",
     "output_type": "stream",
     "text": [
      "\u001b[32m[I 2021-07-08 16:58:19,614]\u001b[0m Trial 34 finished with value: 1.7582141128778268 and parameters: {'hidden_neurons': 660, 'learning_rate': 0.004148051423071753, 'batch': 46, 'epoch': 25}. Best is trial 15 with value: 1.7139595586487282.\u001b[0m\n"
     ]
    },
    {
     "name": "stdout",
     "output_type": "stream",
     "text": [
      "Fold 0: 1.7728246297192245 MAE\n",
      "Fold 1: 1.7275691445128218 MAE\n",
      "Fold 2: 1.7893243251438717 MAE\n",
      "Fold 3: 1.7220699919821683 MAE\n",
      "Fold 4: 1.7792824730310468 MAE\n",
      "Average: 1.7582141128778268 MAE\n"
     ]
    },
    {
     "name": "stderr",
     "output_type": "stream",
     "text": [
      "\u001b[32m[I 2021-07-08 16:59:00,852]\u001b[0m Trial 35 finished with value: 1.7197680690399195 and parameters: {'hidden_neurons': 585, 'learning_rate': 0.0003112448523896882, 'batch': 5, 'epoch': 13}. Best is trial 15 with value: 1.7139595586487282.\u001b[0m\n"
     ]
    },
    {
     "name": "stdout",
     "output_type": "stream",
     "text": [
      "Fold 0: 1.7492617910081427 MAE\n",
      "Fold 1: 1.719472831015546 MAE\n",
      "Fold 2: 1.6934878228287347 MAE\n",
      "Fold 3: 1.6863263553314325 MAE\n",
      "Fold 4: 1.7502915450157412 MAE\n",
      "Average: 1.7197680690399195 MAE\n"
     ]
    },
    {
     "name": "stderr",
     "output_type": "stream",
     "text": [
      "\u001b[32m[I 2021-07-08 16:59:15,273]\u001b[0m Trial 36 finished with value: 3.5300159378817226 and parameters: {'hidden_neurons': 246, 'learning_rate': 0.0002996570749858764, 'batch': 14, 'epoch': 12}. Best is trial 15 with value: 1.7139595586487282.\u001b[0m\n"
     ]
    },
    {
     "name": "stdout",
     "output_type": "stream",
     "text": [
      "Fold 0: 1.7288871287419256 MAE\n",
      "Fold 1: 1.689216823579968 MAE\n",
      "Fold 2: 6.272512482761181 MAE\n",
      "Fold 3: 6.145574687714709 MAE\n",
      "Fold 4: 1.8138885666108289 MAE\n",
      "Average: 3.5300159378817226 MAE\n"
     ]
    },
    {
     "name": "stderr",
     "output_type": "stream",
     "text": [
      "\u001b[32m[I 2021-07-08 16:59:17,500]\u001b[0m Trial 37 finished with value: 1.805709440780155 and parameters: {'hidden_neurons': 589, 'learning_rate': 0.00011845100439089065, 'batch': 220, 'epoch': 14}. Best is trial 15 with value: 1.7139595586487282.\u001b[0m\n"
     ]
    },
    {
     "name": "stdout",
     "output_type": "stream",
     "text": [
      "Fold 0: 1.8129125073558128 MAE\n",
      "Fold 1: 1.8108383327420294 MAE\n",
      "Fold 2: 1.8005020090388826 MAE\n",
      "Fold 3: 1.7783523494243003 MAE\n",
      "Fold 4: 1.8259420053397508 MAE\n",
      "Average: 1.805709440780155 MAE\n"
     ]
    },
    {
     "name": "stderr",
     "output_type": "stream",
     "text": [
      "\u001b[32m[I 2021-07-08 16:59:44,198]\u001b[0m Trial 38 finished with value: 1.7519229144838548 and parameters: {'hidden_neurons': 726, 'learning_rate': 1.3926442287124756e-05, 'batch': 6, 'epoch': 10}. Best is trial 15 with value: 1.7139595586487282.\u001b[0m\n"
     ]
    },
    {
     "name": "stdout",
     "output_type": "stream",
     "text": [
      "Fold 0: 1.7746358035345047 MAE\n",
      "Fold 1: 1.7684644608885043 MAE\n",
      "Fold 2: 1.7278954334435388 MAE\n",
      "Fold 3: 1.747157599395941 MAE\n",
      "Fold 4: 1.741461275156785 MAE\n",
      "Average: 1.7519229144838548 MAE\n"
     ]
    },
    {
     "name": "stderr",
     "output_type": "stream",
     "text": [
      "\u001b[32m[I 2021-07-08 16:59:51,045]\u001b[0m Trial 39 finished with value: 1.795778398734538 and parameters: {'hidden_neurons': 417, 'learning_rate': 4.6910920685700425e-05, 'batch': 65, 'epoch': 22}. Best is trial 15 with value: 1.7139595586487282.\u001b[0m\n"
     ]
    },
    {
     "name": "stdout",
     "output_type": "stream",
     "text": [
      "Fold 0: 1.8064948203452238 MAE\n",
      "Fold 1: 1.7825290120921742 MAE\n",
      "Fold 2: 1.8118619522577422 MAE\n",
      "Fold 3: 1.7420566349290434 MAE\n",
      "Fold 4: 1.8359495740485057 MAE\n",
      "Average: 1.795778398734538 MAE\n"
     ]
    },
    {
     "name": "stderr",
     "output_type": "stream",
     "text": [
      "\u001b[32m[I 2021-07-08 16:59:58,923]\u001b[0m Trial 40 finished with value: 1.7550352484008194 and parameters: {'hidden_neurons': 370, 'learning_rate': 0.00019385178568050745, 'batch': 38, 'epoch': 16}. Best is trial 15 with value: 1.7139595586487282.\u001b[0m\n"
     ]
    },
    {
     "name": "stdout",
     "output_type": "stream",
     "text": [
      "Fold 0: 1.7609105437977954 MAE\n",
      "Fold 1: 1.754887020916135 MAE\n",
      "Fold 2: 1.7797954420356297 MAE\n",
      "Fold 3: 1.7507255067109762 MAE\n",
      "Fold 4: 1.7288577285435598 MAE\n",
      "Average: 1.7550352484008194 MAE\n"
     ]
    },
    {
     "name": "stderr",
     "output_type": "stream",
     "text": [
      "\u001b[32m[I 2021-07-08 17:00:08,466]\u001b[0m Trial 41 finished with value: 1.742919158459237 and parameters: {'hidden_neurons': 474, 'learning_rate': 0.0006984929237744149, 'batch': 22, 'epoch': 12}. Best is trial 15 with value: 1.7139595586487282.\u001b[0m\n"
     ]
    },
    {
     "name": "stdout",
     "output_type": "stream",
     "text": [
      "Fold 0: 1.7836142570855409 MAE\n",
      "Fold 1: 1.7703024124778595 MAE\n",
      "Fold 2: 1.7322025959593836 MAE\n",
      "Fold 3: 1.6815017659331037 MAE\n",
      "Fold 4: 1.7469747608402983 MAE\n",
      "Average: 1.742919158459237 MAE\n"
     ]
    },
    {
     "name": "stderr",
     "output_type": "stream",
     "text": [
      "\u001b[32m[I 2021-07-08 17:01:08,634]\u001b[0m Trial 42 finished with value: 1.714997158763023 and parameters: {'hidden_neurons': 577, 'learning_rate': 0.002651364079084171, 'batch': 5, 'epoch': 19}. Best is trial 15 with value: 1.7139595586487282.\u001b[0m\n"
     ]
    },
    {
     "name": "stdout",
     "output_type": "stream",
     "text": [
      "Fold 0: 1.7538530470336828 MAE\n",
      "Fold 1: 1.7096741560880309 MAE\n",
      "Fold 2: 1.696125835149784 MAE\n",
      "Fold 3: 1.7014587275712223 MAE\n",
      "Fold 4: 1.7138740279723952 MAE\n",
      "Average: 1.714997158763023 MAE\n"
     ]
    },
    {
     "name": "stderr",
     "output_type": "stream",
     "text": [
      "\u001b[32m[I 2021-07-08 17:02:20,241]\u001b[0m Trial 43 finished with value: 1.715822205483161 and parameters: {'hidden_neurons': 498, 'learning_rate': 0.00037332031005308223, 'batch': 6, 'epoch': 27}. Best is trial 15 with value: 1.7139595586487282.\u001b[0m\n"
     ]
    },
    {
     "name": "stdout",
     "output_type": "stream",
     "text": [
      "Fold 0: 1.7403388797996502 MAE\n",
      "Fold 1: 1.734906591391388 MAE\n",
      "Fold 2: 1.7188533648791446 MAE\n",
      "Fold 3: 1.6902035328061666 MAE\n",
      "Fold 4: 1.6948086585394548 MAE\n",
      "Average: 1.715822205483161 MAE\n"
     ]
    },
    {
     "name": "stderr",
     "output_type": "stream",
     "text": [
      "\u001b[32m[I 2021-07-08 17:02:45,729]\u001b[0m Trial 44 finished with value: 1.7373705259804377 and parameters: {'hidden_neurons': 505, 'learning_rate': 0.00047296191828311707, 'batch': 18, 'epoch': 27}. Best is trial 15 with value: 1.7139595586487282.\u001b[0m\n"
     ]
    },
    {
     "name": "stdout",
     "output_type": "stream",
     "text": [
      "Fold 0: 1.7630904923234634 MAE\n",
      "Fold 1: 1.7285432626631403 MAE\n",
      "Fold 2: 1.7330174245486807 MAE\n",
      "Fold 3: 1.7157054865332007 MAE\n",
      "Fold 4: 1.746495963833704 MAE\n",
      "Average: 1.7373705259804377 MAE\n"
     ]
    },
    {
     "name": "stderr",
     "output_type": "stream",
     "text": [
      "\u001b[32m[I 2021-07-08 17:02:54,132]\u001b[0m Trial 45 finished with value: 1.7525240105013755 and parameters: {'hidden_neurons': 625, 'learning_rate': 0.0027976103338121943, 'batch': 53, 'epoch': 23}. Best is trial 15 with value: 1.7139595586487282.\u001b[0m\n"
     ]
    },
    {
     "name": "stdout",
     "output_type": "stream",
     "text": [
      "Fold 0: 1.7438713383310778 MAE\n",
      "Fold 1: 1.785599763072343 MAE\n",
      "Fold 2: 1.7270027684731126 MAE\n",
      "Fold 3: 1.8009027962045836 MAE\n",
      "Fold 4: 1.7052433864257595 MAE\n",
      "Average: 1.7525240105013755 MAE\n"
     ]
    },
    {
     "name": "stderr",
     "output_type": "stream",
     "text": [
      "\u001b[32m[I 2021-07-08 17:03:02,102]\u001b[0m Trial 46 finished with value: 1.7537834697474572 and parameters: {'hidden_neurons': 485, 'learning_rate': 0.00035957243862832757, 'batch': 81, 'epoch': 30}. Best is trial 15 with value: 1.7139595586487282.\u001b[0m\n"
     ]
    },
    {
     "name": "stdout",
     "output_type": "stream",
     "text": [
      "Fold 0: 1.7275854855051336 MAE\n",
      "Fold 1: 1.7965013794899503 MAE\n",
      "Fold 2: 1.720630170537837 MAE\n",
      "Fold 3: 1.7751334709481044 MAE\n",
      "Fold 4: 1.749066842256261 MAE\n",
      "Average: 1.7537834697474572 MAE\n"
     ]
    },
    {
     "name": "stderr",
     "output_type": "stream",
     "text": [
      "\u001b[32m[I 2021-07-08 17:03:19,895]\u001b[0m Trial 47 finished with value: 1.7598853367494627 and parameters: {'hidden_neurons': 782, 'learning_rate': 0.0009600131361018357, 'batch': 35, 'epoch': 34}. Best is trial 15 with value: 1.7139595586487282.\u001b[0m\n"
     ]
    },
    {
     "name": "stdout",
     "output_type": "stream",
     "text": [
      "Fold 0: 1.7194726414059942 MAE\n",
      "Fold 1: 1.8001947351916592 MAE\n",
      "Fold 2: 1.7757435786446816 MAE\n",
      "Fold 3: 1.7531827518138898 MAE\n",
      "Fold 4: 1.7508329766910884 MAE\n",
      "Average: 1.7598853367494627 MAE\n"
     ]
    },
    {
     "name": "stderr",
     "output_type": "stream",
     "text": [
      "\u001b[32m[I 2021-07-08 17:03:23,474]\u001b[0m Trial 48 finished with value: 1.7535804553819183 and parameters: {'hidden_neurons': 647, 'learning_rate': 0.00725133799383113, 'batch': 145, 'epoch': 19}. Best is trial 15 with value: 1.7139595586487282.\u001b[0m\n"
     ]
    },
    {
     "name": "stdout",
     "output_type": "stream",
     "text": [
      "Fold 0: 1.738460106191873 MAE\n",
      "Fold 1: 1.703517496288508 MAE\n",
      "Fold 2: 1.7957737838144818 MAE\n",
      "Fold 3: 1.7758396049908372 MAE\n",
      "Fold 4: 1.754311285623893 MAE\n",
      "Average: 1.7535804553819183 MAE\n"
     ]
    },
    {
     "name": "stderr",
     "output_type": "stream",
     "text": [
      "\u001b[32m[I 2021-07-08 17:04:51,992]\u001b[0m Trial 49 finished with value: 2.6328693902943825 and parameters: {'hidden_neurons': 335, 'learning_rate': 0.0014419589190592392, 'batch': 5, 'epoch': 28}. Best is trial 15 with value: 1.7139595586487282.\u001b[0m\n"
     ]
    },
    {
     "name": "stdout",
     "output_type": "stream",
     "text": [
      "Fold 0: 1.702989537513761 MAE\n",
      "Fold 1: 1.7032798736527273 MAE\n",
      "Fold 2: 1.7167734633244212 MAE\n",
      "Fold 3: 6.347642784530781 MAE\n",
      "Fold 4: 1.693661292450223 MAE\n",
      "Average: 2.6328693902943825 MAE\n"
     ]
    }
   ],
   "source": [
    "def objective(trial):\n",
    "    params = {\n",
    "        'hidden_neurons': trial.suggest_int('hidden_neurons', 50, 1000),\n",
    "        'learning_rate': trial.suggest_float(\"learning_rate\", 1e-6, 1e-2, log=True),\n",
    "        'batch': trial.suggest_int('batch', 5, 250),\n",
    "        'epochs': trial.suggest_int('epoch', 10, 50),\n",
    "    }\n",
    "    \n",
    "    return train(params)\n",
    "\n",
    "study = optuna.create_study(direction='minimize')\n",
    "study.optimize(objective, n_trials=50)"
   ]
  },
  {
   "cell_type": "code",
   "execution_count": 26,
   "id": "enabling-chicago",
   "metadata": {},
   "outputs": [
    {
     "name": "stdout",
     "output_type": "stream",
     "text": [
      "Study statistics: \n",
      "  Number of finished trials:  50\n",
      "Best trial:\n",
      "  Value:  1.7139595586487282\n",
      "  Params: \n",
      "    hidden_neurons: 376\n",
      "    learning_rate: 0.0017795585175007721\n",
      "    batch: 5\n",
      "    epoch: 17\n"
     ]
    }
   ],
   "source": [
    "print(\"Study statistics: \")\n",
    "print(\"  Number of finished trials: \", len(study.trials))\n",
    "#print(\"  Number of pruned trials: \", len(pruned_trials))\n",
    "#print(\"  Number of complete trials: \", len(complete_trials))\n",
    "\n",
    "print(\"Best trial:\")\n",
    "trial = study.best_trial\n",
    "\n",
    "print(\"  Value: \", trial.value)\n",
    "\n",
    "print(\"  Params: \")\n",
    "for key, value in trial.params.items():\n",
    "    print(\"    {}: {}\".format(key, value))"
   ]
  },
  {
   "cell_type": "markdown",
   "id": "killing-category",
   "metadata": {},
   "source": [
    "## Export images"
   ]
  },
  {
   "cell_type": "code",
   "execution_count": 34,
   "id": "judicial-sunrise",
   "metadata": {},
   "outputs": [
    {
     "data": {
      "application/vnd.plotly.v1+json": {
       "config": {
        "plotlyServerURL": "https://plot.ly"
       },
       "data": [
        {
         "dimensions": [
          {
           "label": "Objective Value",
           "range": [
            1.7139595586487282,
            5.396433187426948
           ],
           "values": [
            2.737425170178023,
            2.3245185039235343,
            3.5883448717589252,
            4.429328488789858,
            1.7443734963346675,
            5.287061991849042,
            2.664664640437672,
            5.396433187426948,
            1.7423833664401953,
            1.7740656870155829,
            1.7551805125544668,
            1.7577214492944986,
            1.7566303508538763,
            2.6364780056494017,
            1.7658409703831583,
            1.7139595586487282,
            2.6175102417085836,
            1.731564002337397,
            1.7498106401645699,
            3.5035581665792783,
            1.7573104090373555,
            1.7402277818957803,
            4.391296330341678,
            1.7524604191562947,
            1.7423650481782293,
            1.7640463518902387,
            2.6313017184505596,
            1.7785275306421304,
            4.373593967483747,
            1.7749301471878407,
            3.4707748448651317,
            1.7502010377012591,
            1.7540848451032691,
            1.7552150598490777,
            1.7582141128778268,
            1.7197680690399195,
            3.5300159378817226,
            1.805709440780155,
            1.7519229144838548,
            1.795778398734538,
            1.7550352484008194,
            1.742919158459237,
            1.714997158763023,
            1.715822205483161,
            1.7373705259804377,
            1.7525240105013755,
            1.7537834697474572,
            1.7598853367494627,
            1.7535804553819183,
            2.6328693902943825
           ]
          },
          {
           "label": "batch",
           "range": [
            5,
            244
           ],
           "values": [
            154,
            47,
            166,
            80,
            129,
            244,
            159,
            173,
            9,
            205,
            20,
            99,
            102,
            60,
            134,
            5,
            28,
            8,
            8,
            46,
            70,
            5,
            7,
            36,
            24,
            10,
            53,
            91,
            39,
            69,
            6,
            20,
            25,
            31,
            46,
            5,
            14,
            220,
            6,
            65,
            38,
            22,
            5,
            6,
            18,
            53,
            81,
            35,
            145,
            5
           ]
          },
          {
           "label": "epoch",
           "range": [
            10,
            49
           ],
           "values": [
            41,
            28,
            23,
            13,
            22,
            11,
            24,
            26,
            28,
            37,
            49,
            18,
            37,
            19,
            33,
            17,
            31,
            13,
            15,
            10,
            17,
            10,
            10,
            14,
            20,
            10,
            15,
            12,
            16,
            48,
            21,
            20,
            18,
            13,
            25,
            13,
            12,
            14,
            10,
            22,
            16,
            12,
            19,
            27,
            27,
            23,
            30,
            34,
            19,
            28
           ]
          },
          {
           "label": "hidden_neurons",
           "range": [
            56,
            978
           ],
           "values": [
            76,
            507,
            205,
            373,
            624,
            155,
            978,
            56,
            594,
            493,
            793,
            727,
            687,
            863,
            624,
            376,
            317,
            383,
            401,
            288,
            434,
            570,
            260,
            457,
            539,
            394,
            323,
            551,
            201,
            353,
            111,
            540,
            465,
            537,
            660,
            585,
            246,
            589,
            726,
            417,
            370,
            474,
            577,
            498,
            505,
            625,
            485,
            782,
            647,
            335
           ]
          },
          {
           "label": "learning_rate",
           "range": [
            -5.944036688844239,
            -2.0108368605235465
           ],
           "ticktext": [
            "1.14e-06",
            "1e-05",
            "0.0001",
            "0.001",
            "0.00975"
           ],
           "tickvals": [
            -5.944036688844239,
            -5,
            -4,
            -3,
            -2.0108368605235465
           ],
           "values": [
            -4.590178758644431,
            -5.944036688844239,
            -4.501648213562105,
            -5.876560651951605,
            -2.653501826695523,
            -5.123684331695849,
            -4.998494551129797,
            -5.730820504809385,
            -4.571062768915913,
            -2.2993224903757152,
            -3.5594084972678584,
            -3.354447319532046,
            -2.134727379786252,
            -2.8898674676124143,
            -3.9112718721242894,
            -2.749687726452025,
            -4.144985717046112,
            -3.3427897051757562,
            -3.0603402669914095,
            -2.4611331759531185,
            -3.483975466930654,
            -4.0145023104518485,
            -3.769683778041453,
            -3.1697676858412995,
            -2.731789596573091,
            -4.149172057574543,
            -2.0108368605235465,
            -3.7315703573557713,
            -3.276216032434852,
            -4.262980743131251,
            -2.9397233246782,
            -2.6510582961334404,
            -2.675513013469885,
            -2.876389812961618,
            -2.3821558683346176,
            -3.5068978225379426,
            -3.523375464034399,
            -3.9264612523783446,
            -4.856159816268905,
            -4.3287260433948695,
            -3.712530194101605,
            -3.155837989236687,
            -2.5765306318743866,
            -3.4279183821496644,
            -3.325173826165597,
            -2.5532127764990245,
            -3.4442136045093386,
            -3.017722824358859,
            -2.1395818513980327,
            -2.8410471123489245
           ]
          }
         ],
         "labelangle": 30,
         "labelside": "bottom",
         "line": {
          "color": [
           2.737425170178023,
           2.3245185039235343,
           3.5883448717589252,
           4.429328488789858,
           1.7443734963346675,
           5.287061991849042,
           2.664664640437672,
           5.396433187426948,
           1.7423833664401953,
           1.7740656870155829,
           1.7551805125544668,
           1.7577214492944986,
           1.7566303508538763,
           2.6364780056494017,
           1.7658409703831583,
           1.7139595586487282,
           2.6175102417085836,
           1.731564002337397,
           1.7498106401645699,
           3.5035581665792783,
           1.7573104090373555,
           1.7402277818957803,
           4.391296330341678,
           1.7524604191562947,
           1.7423650481782293,
           1.7640463518902387,
           2.6313017184505596,
           1.7785275306421304,
           4.373593967483747,
           1.7749301471878407,
           3.4707748448651317,
           1.7502010377012591,
           1.7540848451032691,
           1.7552150598490777,
           1.7582141128778268,
           1.7197680690399195,
           3.5300159378817226,
           1.805709440780155,
           1.7519229144838548,
           1.795778398734538,
           1.7550352484008194,
           1.742919158459237,
           1.714997158763023,
           1.715822205483161,
           1.7373705259804377,
           1.7525240105013755,
           1.7537834697474572,
           1.7598853367494627,
           1.7535804553819183,
           2.6328693902943825
          ],
          "colorbar": {
           "title": {
            "text": "Objective Value"
           }
          },
          "colorscale": [
           [
            0,
            "rgb(247,251,255)"
           ],
           [
            0.125,
            "rgb(222,235,247)"
           ],
           [
            0.25,
            "rgb(198,219,239)"
           ],
           [
            0.375,
            "rgb(158,202,225)"
           ],
           [
            0.5,
            "rgb(107,174,214)"
           ],
           [
            0.625,
            "rgb(66,146,198)"
           ],
           [
            0.75,
            "rgb(33,113,181)"
           ],
           [
            0.875,
            "rgb(8,81,156)"
           ],
           [
            1,
            "rgb(8,48,107)"
           ]
          ],
          "reversescale": true,
          "showscale": true
         },
         "type": "parcoords"
        }
       ],
       "layout": {
        "autosize": true,
        "template": {
         "data": {
          "bar": [
           {
            "error_x": {
             "color": "#2a3f5f"
            },
            "error_y": {
             "color": "#2a3f5f"
            },
            "marker": {
             "line": {
              "color": "#E5ECF6",
              "width": 0.5
             },
             "pattern": {
              "fillmode": "overlay",
              "size": 10,
              "solidity": 0.2
             }
            },
            "type": "bar"
           }
          ],
          "barpolar": [
           {
            "marker": {
             "line": {
              "color": "#E5ECF6",
              "width": 0.5
             },
             "pattern": {
              "fillmode": "overlay",
              "size": 10,
              "solidity": 0.2
             }
            },
            "type": "barpolar"
           }
          ],
          "carpet": [
           {
            "aaxis": {
             "endlinecolor": "#2a3f5f",
             "gridcolor": "white",
             "linecolor": "white",
             "minorgridcolor": "white",
             "startlinecolor": "#2a3f5f"
            },
            "baxis": {
             "endlinecolor": "#2a3f5f",
             "gridcolor": "white",
             "linecolor": "white",
             "minorgridcolor": "white",
             "startlinecolor": "#2a3f5f"
            },
            "type": "carpet"
           }
          ],
          "choropleth": [
           {
            "colorbar": {
             "outlinewidth": 0,
             "ticks": ""
            },
            "type": "choropleth"
           }
          ],
          "contour": [
           {
            "colorbar": {
             "outlinewidth": 0,
             "ticks": ""
            },
            "colorscale": [
             [
              0,
              "#0d0887"
             ],
             [
              0.1111111111111111,
              "#46039f"
             ],
             [
              0.2222222222222222,
              "#7201a8"
             ],
             [
              0.3333333333333333,
              "#9c179e"
             ],
             [
              0.4444444444444444,
              "#bd3786"
             ],
             [
              0.5555555555555556,
              "#d8576b"
             ],
             [
              0.6666666666666666,
              "#ed7953"
             ],
             [
              0.7777777777777778,
              "#fb9f3a"
             ],
             [
              0.8888888888888888,
              "#fdca26"
             ],
             [
              1,
              "#f0f921"
             ]
            ],
            "type": "contour"
           }
          ],
          "contourcarpet": [
           {
            "colorbar": {
             "outlinewidth": 0,
             "ticks": ""
            },
            "type": "contourcarpet"
           }
          ],
          "heatmap": [
           {
            "colorbar": {
             "outlinewidth": 0,
             "ticks": ""
            },
            "colorscale": [
             [
              0,
              "#0d0887"
             ],
             [
              0.1111111111111111,
              "#46039f"
             ],
             [
              0.2222222222222222,
              "#7201a8"
             ],
             [
              0.3333333333333333,
              "#9c179e"
             ],
             [
              0.4444444444444444,
              "#bd3786"
             ],
             [
              0.5555555555555556,
              "#d8576b"
             ],
             [
              0.6666666666666666,
              "#ed7953"
             ],
             [
              0.7777777777777778,
              "#fb9f3a"
             ],
             [
              0.8888888888888888,
              "#fdca26"
             ],
             [
              1,
              "#f0f921"
             ]
            ],
            "type": "heatmap"
           }
          ],
          "heatmapgl": [
           {
            "colorbar": {
             "outlinewidth": 0,
             "ticks": ""
            },
            "colorscale": [
             [
              0,
              "#0d0887"
             ],
             [
              0.1111111111111111,
              "#46039f"
             ],
             [
              0.2222222222222222,
              "#7201a8"
             ],
             [
              0.3333333333333333,
              "#9c179e"
             ],
             [
              0.4444444444444444,
              "#bd3786"
             ],
             [
              0.5555555555555556,
              "#d8576b"
             ],
             [
              0.6666666666666666,
              "#ed7953"
             ],
             [
              0.7777777777777778,
              "#fb9f3a"
             ],
             [
              0.8888888888888888,
              "#fdca26"
             ],
             [
              1,
              "#f0f921"
             ]
            ],
            "type": "heatmapgl"
           }
          ],
          "histogram": [
           {
            "marker": {
             "pattern": {
              "fillmode": "overlay",
              "size": 10,
              "solidity": 0.2
             }
            },
            "type": "histogram"
           }
          ],
          "histogram2d": [
           {
            "colorbar": {
             "outlinewidth": 0,
             "ticks": ""
            },
            "colorscale": [
             [
              0,
              "#0d0887"
             ],
             [
              0.1111111111111111,
              "#46039f"
             ],
             [
              0.2222222222222222,
              "#7201a8"
             ],
             [
              0.3333333333333333,
              "#9c179e"
             ],
             [
              0.4444444444444444,
              "#bd3786"
             ],
             [
              0.5555555555555556,
              "#d8576b"
             ],
             [
              0.6666666666666666,
              "#ed7953"
             ],
             [
              0.7777777777777778,
              "#fb9f3a"
             ],
             [
              0.8888888888888888,
              "#fdca26"
             ],
             [
              1,
              "#f0f921"
             ]
            ],
            "type": "histogram2d"
           }
          ],
          "histogram2dcontour": [
           {
            "colorbar": {
             "outlinewidth": 0,
             "ticks": ""
            },
            "colorscale": [
             [
              0,
              "#0d0887"
             ],
             [
              0.1111111111111111,
              "#46039f"
             ],
             [
              0.2222222222222222,
              "#7201a8"
             ],
             [
              0.3333333333333333,
              "#9c179e"
             ],
             [
              0.4444444444444444,
              "#bd3786"
             ],
             [
              0.5555555555555556,
              "#d8576b"
             ],
             [
              0.6666666666666666,
              "#ed7953"
             ],
             [
              0.7777777777777778,
              "#fb9f3a"
             ],
             [
              0.8888888888888888,
              "#fdca26"
             ],
             [
              1,
              "#f0f921"
             ]
            ],
            "type": "histogram2dcontour"
           }
          ],
          "mesh3d": [
           {
            "colorbar": {
             "outlinewidth": 0,
             "ticks": ""
            },
            "type": "mesh3d"
           }
          ],
          "parcoords": [
           {
            "line": {
             "colorbar": {
              "outlinewidth": 0,
              "ticks": ""
             }
            },
            "type": "parcoords"
           }
          ],
          "pie": [
           {
            "automargin": true,
            "type": "pie"
           }
          ],
          "scatter": [
           {
            "marker": {
             "colorbar": {
              "outlinewidth": 0,
              "ticks": ""
             }
            },
            "type": "scatter"
           }
          ],
          "scatter3d": [
           {
            "line": {
             "colorbar": {
              "outlinewidth": 0,
              "ticks": ""
             }
            },
            "marker": {
             "colorbar": {
              "outlinewidth": 0,
              "ticks": ""
             }
            },
            "type": "scatter3d"
           }
          ],
          "scattercarpet": [
           {
            "marker": {
             "colorbar": {
              "outlinewidth": 0,
              "ticks": ""
             }
            },
            "type": "scattercarpet"
           }
          ],
          "scattergeo": [
           {
            "marker": {
             "colorbar": {
              "outlinewidth": 0,
              "ticks": ""
             }
            },
            "type": "scattergeo"
           }
          ],
          "scattergl": [
           {
            "marker": {
             "colorbar": {
              "outlinewidth": 0,
              "ticks": ""
             }
            },
            "type": "scattergl"
           }
          ],
          "scattermapbox": [
           {
            "marker": {
             "colorbar": {
              "outlinewidth": 0,
              "ticks": ""
             }
            },
            "type": "scattermapbox"
           }
          ],
          "scatterpolar": [
           {
            "marker": {
             "colorbar": {
              "outlinewidth": 0,
              "ticks": ""
             }
            },
            "type": "scatterpolar"
           }
          ],
          "scatterpolargl": [
           {
            "marker": {
             "colorbar": {
              "outlinewidth": 0,
              "ticks": ""
             }
            },
            "type": "scatterpolargl"
           }
          ],
          "scatterternary": [
           {
            "marker": {
             "colorbar": {
              "outlinewidth": 0,
              "ticks": ""
             }
            },
            "type": "scatterternary"
           }
          ],
          "surface": [
           {
            "colorbar": {
             "outlinewidth": 0,
             "ticks": ""
            },
            "colorscale": [
             [
              0,
              "#0d0887"
             ],
             [
              0.1111111111111111,
              "#46039f"
             ],
             [
              0.2222222222222222,
              "#7201a8"
             ],
             [
              0.3333333333333333,
              "#9c179e"
             ],
             [
              0.4444444444444444,
              "#bd3786"
             ],
             [
              0.5555555555555556,
              "#d8576b"
             ],
             [
              0.6666666666666666,
              "#ed7953"
             ],
             [
              0.7777777777777778,
              "#fb9f3a"
             ],
             [
              0.8888888888888888,
              "#fdca26"
             ],
             [
              1,
              "#f0f921"
             ]
            ],
            "type": "surface"
           }
          ],
          "table": [
           {
            "cells": {
             "fill": {
              "color": "#EBF0F8"
             },
             "line": {
              "color": "white"
             }
            },
            "header": {
             "fill": {
              "color": "#C8D4E3"
             },
             "line": {
              "color": "white"
             }
            },
            "type": "table"
           }
          ]
         },
         "layout": {
          "annotationdefaults": {
           "arrowcolor": "#2a3f5f",
           "arrowhead": 0,
           "arrowwidth": 1
          },
          "autotypenumbers": "strict",
          "coloraxis": {
           "colorbar": {
            "outlinewidth": 0,
            "ticks": ""
           }
          },
          "colorscale": {
           "diverging": [
            [
             0,
             "#8e0152"
            ],
            [
             0.1,
             "#c51b7d"
            ],
            [
             0.2,
             "#de77ae"
            ],
            [
             0.3,
             "#f1b6da"
            ],
            [
             0.4,
             "#fde0ef"
            ],
            [
             0.5,
             "#f7f7f7"
            ],
            [
             0.6,
             "#e6f5d0"
            ],
            [
             0.7,
             "#b8e186"
            ],
            [
             0.8,
             "#7fbc41"
            ],
            [
             0.9,
             "#4d9221"
            ],
            [
             1,
             "#276419"
            ]
           ],
           "sequential": [
            [
             0,
             "#0d0887"
            ],
            [
             0.1111111111111111,
             "#46039f"
            ],
            [
             0.2222222222222222,
             "#7201a8"
            ],
            [
             0.3333333333333333,
             "#9c179e"
            ],
            [
             0.4444444444444444,
             "#bd3786"
            ],
            [
             0.5555555555555556,
             "#d8576b"
            ],
            [
             0.6666666666666666,
             "#ed7953"
            ],
            [
             0.7777777777777778,
             "#fb9f3a"
            ],
            [
             0.8888888888888888,
             "#fdca26"
            ],
            [
             1,
             "#f0f921"
            ]
           ],
           "sequentialminus": [
            [
             0,
             "#0d0887"
            ],
            [
             0.1111111111111111,
             "#46039f"
            ],
            [
             0.2222222222222222,
             "#7201a8"
            ],
            [
             0.3333333333333333,
             "#9c179e"
            ],
            [
             0.4444444444444444,
             "#bd3786"
            ],
            [
             0.5555555555555556,
             "#d8576b"
            ],
            [
             0.6666666666666666,
             "#ed7953"
            ],
            [
             0.7777777777777778,
             "#fb9f3a"
            ],
            [
             0.8888888888888888,
             "#fdca26"
            ],
            [
             1,
             "#f0f921"
            ]
           ]
          },
          "colorway": [
           "#636efa",
           "#EF553B",
           "#00cc96",
           "#ab63fa",
           "#FFA15A",
           "#19d3f3",
           "#FF6692",
           "#B6E880",
           "#FF97FF",
           "#FECB52"
          ],
          "font": {
           "color": "#2a3f5f"
          },
          "geo": {
           "bgcolor": "white",
           "lakecolor": "white",
           "landcolor": "#E5ECF6",
           "showlakes": true,
           "showland": true,
           "subunitcolor": "white"
          },
          "hoverlabel": {
           "align": "left"
          },
          "hovermode": "closest",
          "mapbox": {
           "style": "light"
          },
          "paper_bgcolor": "white",
          "plot_bgcolor": "#E5ECF6",
          "polar": {
           "angularaxis": {
            "gridcolor": "white",
            "linecolor": "white",
            "ticks": ""
           },
           "bgcolor": "#E5ECF6",
           "radialaxis": {
            "gridcolor": "white",
            "linecolor": "white",
            "ticks": ""
           }
          },
          "scene": {
           "xaxis": {
            "backgroundcolor": "#E5ECF6",
            "gridcolor": "white",
            "gridwidth": 2,
            "linecolor": "white",
            "showbackground": true,
            "ticks": "",
            "zerolinecolor": "white"
           },
           "yaxis": {
            "backgroundcolor": "#E5ECF6",
            "gridcolor": "white",
            "gridwidth": 2,
            "linecolor": "white",
            "showbackground": true,
            "ticks": "",
            "zerolinecolor": "white"
           },
           "zaxis": {
            "backgroundcolor": "#E5ECF6",
            "gridcolor": "white",
            "gridwidth": 2,
            "linecolor": "white",
            "showbackground": true,
            "ticks": "",
            "zerolinecolor": "white"
           }
          },
          "shapedefaults": {
           "line": {
            "color": "#2a3f5f"
           }
          },
          "ternary": {
           "aaxis": {
            "gridcolor": "white",
            "linecolor": "white",
            "ticks": ""
           },
           "baxis": {
            "gridcolor": "white",
            "linecolor": "white",
            "ticks": ""
           },
           "bgcolor": "#E5ECF6",
           "caxis": {
            "gridcolor": "white",
            "linecolor": "white",
            "ticks": ""
           }
          },
          "title": {
           "x": 0.05
          },
          "xaxis": {
           "automargin": true,
           "gridcolor": "white",
           "linecolor": "white",
           "ticks": "",
           "title": {
            "standoff": 15
           },
           "zerolinecolor": "white",
           "zerolinewidth": 2
          },
          "yaxis": {
           "automargin": true,
           "gridcolor": "white",
           "linecolor": "white",
           "ticks": "",
           "title": {
            "standoff": 15
           },
           "zerolinecolor": "white",
           "zerolinewidth": 2
          }
         }
        },
        "title": {
         "text": "Parallel Coordinate Plot"
        }
       }
      },
      "image/png": "[encoded data removed]",
      "text/html": [
       "<div>                            <div id=\"afbc663a-9b38-46e9-a5f1-682cc5976e2d\" class=\"plotly-graph-div\" style=\"height:525px; width:100%;\"></div>            <script type=\"text/javascript\">                require([\"plotly\"], function(Plotly) {                    window.PLOTLYENV=window.PLOTLYENV || {};                                    if (document.getElementById(\"afbc663a-9b38-46e9-a5f1-682cc5976e2d\")) {                    Plotly.newPlot(                        \"afbc663a-9b38-46e9-a5f1-682cc5976e2d\",                        [{\"dimensions\":[{\"label\":\"Objective Value\",\"range\":[1.7139595586487282,5.396433187426948],\"values\":[2.737425170178023,2.3245185039235343,3.5883448717589252,4.429328488789858,1.7443734963346675,5.287061991849042,2.664664640437672,5.396433187426948,1.7423833664401953,1.7740656870155829,1.7551805125544668,1.7577214492944986,1.7566303508538763,2.6364780056494017,1.7658409703831583,1.7139595586487282,2.6175102417085836,1.731564002337397,1.7498106401645699,3.5035581665792783,1.7573104090373555,1.7402277818957803,4.391296330341678,1.7524604191562947,1.7423650481782293,1.7640463518902387,2.6313017184505596,1.7785275306421304,4.373593967483747,1.7749301471878407,3.4707748448651317,1.7502010377012591,1.7540848451032691,1.7552150598490777,1.7582141128778268,1.7197680690399195,3.5300159378817226,1.805709440780155,1.7519229144838548,1.795778398734538,1.7550352484008194,1.742919158459237,1.714997158763023,1.715822205483161,1.7373705259804377,1.7525240105013755,1.7537834697474572,1.7598853367494627,1.7535804553819183,2.6328693902943825]},{\"label\":\"batch\",\"range\":[5,244],\"values\":[154,47,166,80,129,244,159,173,9,205,20,99,102,60,134,5,28,8,8,46,70,5,7,36,24,10,53,91,39,69,6,20,25,31,46,5,14,220,6,65,38,22,5,6,18,53,81,35,145,5]},{\"label\":\"epoch\",\"range\":[10,49],\"values\":[41,28,23,13,22,11,24,26,28,37,49,18,37,19,33,17,31,13,15,10,17,10,10,14,20,10,15,12,16,48,21,20,18,13,25,13,12,14,10,22,16,12,19,27,27,23,30,34,19,28]},{\"label\":\"hidden_neurons\",\"range\":[56,978],\"values\":[76,507,205,373,624,155,978,56,594,493,793,727,687,863,624,376,317,383,401,288,434,570,260,457,539,394,323,551,201,353,111,540,465,537,660,585,246,589,726,417,370,474,577,498,505,625,485,782,647,335]},{\"label\":\"learning_rate\",\"range\":[-5.944036688844239,-2.0108368605235465],\"ticktext\":[\"1.14e-06\",\"1e-05\",\"0.0001\",\"0.001\",\"0.00975\"],\"tickvals\":[-5.944036688844239,-5,-4,-3,-2.0108368605235465],\"values\":[-4.590178758644431,-5.944036688844239,-4.501648213562105,-5.876560651951605,-2.653501826695523,-5.123684331695849,-4.998494551129797,-5.730820504809385,-4.571062768915913,-2.2993224903757152,-3.5594084972678584,-3.354447319532046,-2.134727379786252,-2.8898674676124143,-3.9112718721242894,-2.749687726452025,-4.144985717046112,-3.3427897051757562,-3.0603402669914095,-2.4611331759531185,-3.483975466930654,-4.0145023104518485,-3.769683778041453,-3.1697676858412995,-2.731789596573091,-4.149172057574543,-2.0108368605235465,-3.7315703573557713,-3.276216032434852,-4.262980743131251,-2.9397233246782,-2.6510582961334404,-2.675513013469885,-2.876389812961618,-2.3821558683346176,-3.5068978225379426,-3.523375464034399,-3.9264612523783446,-4.856159816268905,-4.3287260433948695,-3.712530194101605,-3.155837989236687,-2.5765306318743866,-3.4279183821496644,-3.325173826165597,-2.5532127764990245,-3.4442136045093386,-3.017722824358859,-2.1395818513980327,-2.8410471123489245]}],\"labelangle\":30,\"labelside\":\"bottom\",\"line\":{\"color\":[2.737425170178023,2.3245185039235343,3.5883448717589252,4.429328488789858,1.7443734963346675,5.287061991849042,2.664664640437672,5.396433187426948,1.7423833664401953,1.7740656870155829,1.7551805125544668,1.7577214492944986,1.7566303508538763,2.6364780056494017,1.7658409703831583,1.7139595586487282,2.6175102417085836,1.731564002337397,1.7498106401645699,3.5035581665792783,1.7573104090373555,1.7402277818957803,4.391296330341678,1.7524604191562947,1.7423650481782293,1.7640463518902387,2.6313017184505596,1.7785275306421304,4.373593967483747,1.7749301471878407,3.4707748448651317,1.7502010377012591,1.7540848451032691,1.7552150598490777,1.7582141128778268,1.7197680690399195,3.5300159378817226,1.805709440780155,1.7519229144838548,1.795778398734538,1.7550352484008194,1.742919158459237,1.714997158763023,1.715822205483161,1.7373705259804377,1.7525240105013755,1.7537834697474572,1.7598853367494627,1.7535804553819183,2.6328693902943825],\"colorbar\":{\"title\":{\"text\":\"Objective Value\"}},\"colorscale\":[[0.0,\"rgb(247,251,255)\"],[0.125,\"rgb(222,235,247)\"],[0.25,\"rgb(198,219,239)\"],[0.375,\"rgb(158,202,225)\"],[0.5,\"rgb(107,174,214)\"],[0.625,\"rgb(66,146,198)\"],[0.75,\"rgb(33,113,181)\"],[0.875,\"rgb(8,81,156)\"],[1.0,\"rgb(8,48,107)\"]],\"reversescale\":true,\"showscale\":true},\"type\":\"parcoords\"}],                        {\"template\":{\"data\":{\"bar\":[{\"error_x\":{\"color\":\"#2a3f5f\"},\"error_y\":{\"color\":\"#2a3f5f\"},\"marker\":{\"line\":{\"color\":\"#E5ECF6\",\"width\":0.5},\"pattern\":{\"fillmode\":\"overlay\",\"size\":10,\"solidity\":0.2}},\"type\":\"bar\"}],\"barpolar\":[{\"marker\":{\"line\":{\"color\":\"#E5ECF6\",\"width\":0.5},\"pattern\":{\"fillmode\":\"overlay\",\"size\":10,\"solidity\":0.2}},\"type\":\"barpolar\"}],\"carpet\":[{\"aaxis\":{\"endlinecolor\":\"#2a3f5f\",\"gridcolor\":\"white\",\"linecolor\":\"white\",\"minorgridcolor\":\"white\",\"startlinecolor\":\"#2a3f5f\"},\"baxis\":{\"endlinecolor\":\"#2a3f5f\",\"gridcolor\":\"white\",\"linecolor\":\"white\",\"minorgridcolor\":\"white\",\"startlinecolor\":\"#2a3f5f\"},\"type\":\"carpet\"}],\"choropleth\":[{\"colorbar\":{\"outlinewidth\":0,\"ticks\":\"\"},\"type\":\"choropleth\"}],\"contour\":[{\"colorbar\":{\"outlinewidth\":0,\"ticks\":\"\"},\"colorscale\":[[0.0,\"#0d0887\"],[0.1111111111111111,\"#46039f\"],[0.2222222222222222,\"#7201a8\"],[0.3333333333333333,\"#9c179e\"],[0.4444444444444444,\"#bd3786\"],[0.5555555555555556,\"#d8576b\"],[0.6666666666666666,\"#ed7953\"],[0.7777777777777778,\"#fb9f3a\"],[0.8888888888888888,\"#fdca26\"],[1.0,\"#f0f921\"]],\"type\":\"contour\"}],\"contourcarpet\":[{\"colorbar\":{\"outlinewidth\":0,\"ticks\":\"\"},\"type\":\"contourcarpet\"}],\"heatmap\":[{\"colorbar\":{\"outlinewidth\":0,\"ticks\":\"\"},\"colorscale\":[[0.0,\"#0d0887\"],[0.1111111111111111,\"#46039f\"],[0.2222222222222222,\"#7201a8\"],[0.3333333333333333,\"#9c179e\"],[0.4444444444444444,\"#bd3786\"],[0.5555555555555556,\"#d8576b\"],[0.6666666666666666,\"#ed7953\"],[0.7777777777777778,\"#fb9f3a\"],[0.8888888888888888,\"#fdca26\"],[1.0,\"#f0f921\"]],\"type\":\"heatmap\"}],\"heatmapgl\":[{\"colorbar\":{\"outlinewidth\":0,\"ticks\":\"\"},\"colorscale\":[[0.0,\"#0d0887\"],[0.1111111111111111,\"#46039f\"],[0.2222222222222222,\"#7201a8\"],[0.3333333333333333,\"#9c179e\"],[0.4444444444444444,\"#bd3786\"],[0.5555555555555556,\"#d8576b\"],[0.6666666666666666,\"#ed7953\"],[0.7777777777777778,\"#fb9f3a\"],[0.8888888888888888,\"#fdca26\"],[1.0,\"#f0f921\"]],\"type\":\"heatmapgl\"}],\"histogram\":[{\"marker\":{\"pattern\":{\"fillmode\":\"overlay\",\"size\":10,\"solidity\":0.2}},\"type\":\"histogram\"}],\"histogram2d\":[{\"colorbar\":{\"outlinewidth\":0,\"ticks\":\"\"},\"colorscale\":[[0.0,\"#0d0887\"],[0.1111111111111111,\"#46039f\"],[0.2222222222222222,\"#7201a8\"],[0.3333333333333333,\"#9c179e\"],[0.4444444444444444,\"#bd3786\"],[0.5555555555555556,\"#d8576b\"],[0.6666666666666666,\"#ed7953\"],[0.7777777777777778,\"#fb9f3a\"],[0.8888888888888888,\"#fdca26\"],[1.0,\"#f0f921\"]],\"type\":\"histogram2d\"}],\"histogram2dcontour\":[{\"colorbar\":{\"outlinewidth\":0,\"ticks\":\"\"},\"colorscale\":[[0.0,\"#0d0887\"],[0.1111111111111111,\"#46039f\"],[0.2222222222222222,\"#7201a8\"],[0.3333333333333333,\"#9c179e\"],[0.4444444444444444,\"#bd3786\"],[0.5555555555555556,\"#d8576b\"],[0.6666666666666666,\"#ed7953\"],[0.7777777777777778,\"#fb9f3a\"],[0.8888888888888888,\"#fdca26\"],[1.0,\"#f0f921\"]],\"type\":\"histogram2dcontour\"}],\"mesh3d\":[{\"colorbar\":{\"outlinewidth\":0,\"ticks\":\"\"},\"type\":\"mesh3d\"}],\"parcoords\":[{\"line\":{\"colorbar\":{\"outlinewidth\":0,\"ticks\":\"\"}},\"type\":\"parcoords\"}],\"pie\":[{\"automargin\":true,\"type\":\"pie\"}],\"scatter\":[{\"marker\":{\"colorbar\":{\"outlinewidth\":0,\"ticks\":\"\"}},\"type\":\"scatter\"}],\"scatter3d\":[{\"line\":{\"colorbar\":{\"outlinewidth\":0,\"ticks\":\"\"}},\"marker\":{\"colorbar\":{\"outlinewidth\":0,\"ticks\":\"\"}},\"type\":\"scatter3d\"}],\"scattercarpet\":[{\"marker\":{\"colorbar\":{\"outlinewidth\":0,\"ticks\":\"\"}},\"type\":\"scattercarpet\"}],\"scattergeo\":[{\"marker\":{\"colorbar\":{\"outlinewidth\":0,\"ticks\":\"\"}},\"type\":\"scattergeo\"}],\"scattergl\":[{\"marker\":{\"colorbar\":{\"outlinewidth\":0,\"ticks\":\"\"}},\"type\":\"scattergl\"}],\"scattermapbox\":[{\"marker\":{\"colorbar\":{\"outlinewidth\":0,\"ticks\":\"\"}},\"type\":\"scattermapbox\"}],\"scatterpolar\":[{\"marker\":{\"colorbar\":{\"outlinewidth\":0,\"ticks\":\"\"}},\"type\":\"scatterpolar\"}],\"scatterpolargl\":[{\"marker\":{\"colorbar\":{\"outlinewidth\":0,\"ticks\":\"\"}},\"type\":\"scatterpolargl\"}],\"scatterternary\":[{\"marker\":{\"colorbar\":{\"outlinewidth\":0,\"ticks\":\"\"}},\"type\":\"scatterternary\"}],\"surface\":[{\"colorbar\":{\"outlinewidth\":0,\"ticks\":\"\"},\"colorscale\":[[0.0,\"#0d0887\"],[0.1111111111111111,\"#46039f\"],[0.2222222222222222,\"#7201a8\"],[0.3333333333333333,\"#9c179e\"],[0.4444444444444444,\"#bd3786\"],[0.5555555555555556,\"#d8576b\"],[0.6666666666666666,\"#ed7953\"],[0.7777777777777778,\"#fb9f3a\"],[0.8888888888888888,\"#fdca26\"],[1.0,\"#f0f921\"]],\"type\":\"surface\"}],\"table\":[{\"cells\":{\"fill\":{\"color\":\"#EBF0F8\"},\"line\":{\"color\":\"white\"}},\"header\":{\"fill\":{\"color\":\"#C8D4E3\"},\"line\":{\"color\":\"white\"}},\"type\":\"table\"}]},\"layout\":{\"annotationdefaults\":{\"arrowcolor\":\"#2a3f5f\",\"arrowhead\":0,\"arrowwidth\":1},\"autotypenumbers\":\"strict\",\"coloraxis\":{\"colorbar\":{\"outlinewidth\":0,\"ticks\":\"\"}},\"colorscale\":{\"diverging\":[[0,\"#8e0152\"],[0.1,\"#c51b7d\"],[0.2,\"#de77ae\"],[0.3,\"#f1b6da\"],[0.4,\"#fde0ef\"],[0.5,\"#f7f7f7\"],[0.6,\"#e6f5d0\"],[0.7,\"#b8e186\"],[0.8,\"#7fbc41\"],[0.9,\"#4d9221\"],[1,\"#276419\"]],\"sequential\":[[0.0,\"#0d0887\"],[0.1111111111111111,\"#46039f\"],[0.2222222222222222,\"#7201a8\"],[0.3333333333333333,\"#9c179e\"],[0.4444444444444444,\"#bd3786\"],[0.5555555555555556,\"#d8576b\"],[0.6666666666666666,\"#ed7953\"],[0.7777777777777778,\"#fb9f3a\"],[0.8888888888888888,\"#fdca26\"],[1.0,\"#f0f921\"]],\"sequentialminus\":[[0.0,\"#0d0887\"],[0.1111111111111111,\"#46039f\"],[0.2222222222222222,\"#7201a8\"],[0.3333333333333333,\"#9c179e\"],[0.4444444444444444,\"#bd3786\"],[0.5555555555555556,\"#d8576b\"],[0.6666666666666666,\"#ed7953\"],[0.7777777777777778,\"#fb9f3a\"],[0.8888888888888888,\"#fdca26\"],[1.0,\"#f0f921\"]]},\"colorway\":[\"#636efa\",\"#EF553B\",\"#00cc96\",\"#ab63fa\",\"#FFA15A\",\"#19d3f3\",\"#FF6692\",\"#B6E880\",\"#FF97FF\",\"#FECB52\"],\"font\":{\"color\":\"#2a3f5f\"},\"geo\":{\"bgcolor\":\"white\",\"lakecolor\":\"white\",\"landcolor\":\"#E5ECF6\",\"showlakes\":true,\"showland\":true,\"subunitcolor\":\"white\"},\"hoverlabel\":{\"align\":\"left\"},\"hovermode\":\"closest\",\"mapbox\":{\"style\":\"light\"},\"paper_bgcolor\":\"white\",\"plot_bgcolor\":\"#E5ECF6\",\"polar\":{\"angularaxis\":{\"gridcolor\":\"white\",\"linecolor\":\"white\",\"ticks\":\"\"},\"bgcolor\":\"#E5ECF6\",\"radialaxis\":{\"gridcolor\":\"white\",\"linecolor\":\"white\",\"ticks\":\"\"}},\"scene\":{\"xaxis\":{\"backgroundcolor\":\"#E5ECF6\",\"gridcolor\":\"white\",\"gridwidth\":2,\"linecolor\":\"white\",\"showbackground\":true,\"ticks\":\"\",\"zerolinecolor\":\"white\"},\"yaxis\":{\"backgroundcolor\":\"#E5ECF6\",\"gridcolor\":\"white\",\"gridwidth\":2,\"linecolor\":\"white\",\"showbackground\":true,\"ticks\":\"\",\"zerolinecolor\":\"white\"},\"zaxis\":{\"backgroundcolor\":\"#E5ECF6\",\"gridcolor\":\"white\",\"gridwidth\":2,\"linecolor\":\"white\",\"showbackground\":true,\"ticks\":\"\",\"zerolinecolor\":\"white\"}},\"shapedefaults\":{\"line\":{\"color\":\"#2a3f5f\"}},\"ternary\":{\"aaxis\":{\"gridcolor\":\"white\",\"linecolor\":\"white\",\"ticks\":\"\"},\"baxis\":{\"gridcolor\":\"white\",\"linecolor\":\"white\",\"ticks\":\"\"},\"bgcolor\":\"#E5ECF6\",\"caxis\":{\"gridcolor\":\"white\",\"linecolor\":\"white\",\"ticks\":\"\"}},\"title\":{\"x\":0.05},\"xaxis\":{\"automargin\":true,\"gridcolor\":\"white\",\"linecolor\":\"white\",\"ticks\":\"\",\"title\":{\"standoff\":15},\"zerolinecolor\":\"white\",\"zerolinewidth\":2},\"yaxis\":{\"automargin\":true,\"gridcolor\":\"white\",\"linecolor\":\"white\",\"ticks\":\"\",\"title\":{\"standoff\":15},\"zerolinecolor\":\"white\",\"zerolinewidth\":2}}},\"title\":{\"text\":\"Parallel Coordinate Plot\"}},                        {\"responsive\": true}                    ).then(function(){\n",
       "                            \n",
       "var gd = document.getElementById('afbc663a-9b38-46e9-a5f1-682cc5976e2d');\n",
       "var x = new MutationObserver(function (mutations, observer) {{\n",
       "        var display = window.getComputedStyle(gd).display;\n",
       "        if (!display || display === 'none') {{\n",
       "            console.log([gd, 'removed!']);\n",
       "            Plotly.purge(gd);\n",
       "            observer.disconnect();\n",
       "        }}\n",
       "}});\n",
       "\n",
       "// Listen for the removal of the full notebook cells\n",
       "var notebookContainer = gd.closest('#notebook-container');\n",
       "if (notebookContainer) {{\n",
       "    x.observe(notebookContainer, {childList: true});\n",
       "}}\n",
       "\n",
       "// Listen for the clearing of the current output cell\n",
       "var outputEl = gd.closest('.output');\n",
       "if (outputEl) {{\n",
       "    x.observe(outputEl, {childList: true});\n",
       "}}\n",
       "\n",
       "                        })                };                });            </script>        </div>"
      ]
     },
     "metadata": {},
     "output_type": "display_data"
    },
    {
     "data": {
      "application/vnd.plotly.v1+json": {
       "config": {
        "plotlyServerURL": "https://plot.ly"
       },
       "data": [
        {
         "cliponaxis": false,
         "hovertemplate": [
          "learning_rate (LogUniformDistribution): 0.004869849541492983<extra></extra>",
          "batch (IntUniformDistribution): 0.013717600473164025<extra></extra>",
          "epoch (IntUniformDistribution): 0.024861212346165062<extra></extra>",
          "hidden_neurons (IntUniformDistribution): 0.9565513376391779<extra></extra>"
         ],
         "marker": {
          "color": "rgb(66,146,198)"
         },
         "orientation": "h",
         "text": [
          "0.004869849541492983",
          "0.013717600473164025",
          "0.024861212346165062",
          "0.9565513376391779"
         ],
         "textposition": "outside",
         "texttemplate": "%{text:.2f}",
         "type": "bar",
         "x": [
          0.004869849541492983,
          0.013717600473164025,
          0.024861212346165062,
          0.9565513376391779
         ],
         "y": [
          "learning_rate",
          "batch",
          "epoch",
          "hidden_neurons"
         ]
        }
       ],
       "layout": {
        "autosize": true,
        "showlegend": false,
        "template": {
         "data": {
          "bar": [
           {
            "error_x": {
             "color": "#2a3f5f"
            },
            "error_y": {
             "color": "#2a3f5f"
            },
            "marker": {
             "line": {
              "color": "#E5ECF6",
              "width": 0.5
             },
             "pattern": {
              "fillmode": "overlay",
              "size": 10,
              "solidity": 0.2
             }
            },
            "type": "bar"
           }
          ],
          "barpolar": [
           {
            "marker": {
             "line": {
              "color": "#E5ECF6",
              "width": 0.5
             },
             "pattern": {
              "fillmode": "overlay",
              "size": 10,
              "solidity": 0.2
             }
            },
            "type": "barpolar"
           }
          ],
          "carpet": [
           {
            "aaxis": {
             "endlinecolor": "#2a3f5f",
             "gridcolor": "white",
             "linecolor": "white",
             "minorgridcolor": "white",
             "startlinecolor": "#2a3f5f"
            },
            "baxis": {
             "endlinecolor": "#2a3f5f",
             "gridcolor": "white",
             "linecolor": "white",
             "minorgridcolor": "white",
             "startlinecolor": "#2a3f5f"
            },
            "type": "carpet"
           }
          ],
          "choropleth": [
           {
            "colorbar": {
             "outlinewidth": 0,
             "ticks": ""
            },
            "type": "choropleth"
           }
          ],
          "contour": [
           {
            "colorbar": {
             "outlinewidth": 0,
             "ticks": ""
            },
            "colorscale": [
             [
              0,
              "#0d0887"
             ],
             [
              0.1111111111111111,
              "#46039f"
             ],
             [
              0.2222222222222222,
              "#7201a8"
             ],
             [
              0.3333333333333333,
              "#9c179e"
             ],
             [
              0.4444444444444444,
              "#bd3786"
             ],
             [
              0.5555555555555556,
              "#d8576b"
             ],
             [
              0.6666666666666666,
              "#ed7953"
             ],
             [
              0.7777777777777778,
              "#fb9f3a"
             ],
             [
              0.8888888888888888,
              "#fdca26"
             ],
             [
              1,
              "#f0f921"
             ]
            ],
            "type": "contour"
           }
          ],
          "contourcarpet": [
           {
            "colorbar": {
             "outlinewidth": 0,
             "ticks": ""
            },
            "type": "contourcarpet"
           }
          ],
          "heatmap": [
           {
            "colorbar": {
             "outlinewidth": 0,
             "ticks": ""
            },
            "colorscale": [
             [
              0,
              "#0d0887"
             ],
             [
              0.1111111111111111,
              "#46039f"
             ],
             [
              0.2222222222222222,
              "#7201a8"
             ],
             [
              0.3333333333333333,
              "#9c179e"
             ],
             [
              0.4444444444444444,
              "#bd3786"
             ],
             [
              0.5555555555555556,
              "#d8576b"
             ],
             [
              0.6666666666666666,
              "#ed7953"
             ],
             [
              0.7777777777777778,
              "#fb9f3a"
             ],
             [
              0.8888888888888888,
              "#fdca26"
             ],
             [
              1,
              "#f0f921"
             ]
            ],
            "type": "heatmap"
           }
          ],
          "heatmapgl": [
           {
            "colorbar": {
             "outlinewidth": 0,
             "ticks": ""
            },
            "colorscale": [
             [
              0,
              "#0d0887"
             ],
             [
              0.1111111111111111,
              "#46039f"
             ],
             [
              0.2222222222222222,
              "#7201a8"
             ],
             [
              0.3333333333333333,
              "#9c179e"
             ],
             [
              0.4444444444444444,
              "#bd3786"
             ],
             [
              0.5555555555555556,
              "#d8576b"
             ],
             [
              0.6666666666666666,
              "#ed7953"
             ],
             [
              0.7777777777777778,
              "#fb9f3a"
             ],
             [
              0.8888888888888888,
              "#fdca26"
             ],
             [
              1,
              "#f0f921"
             ]
            ],
            "type": "heatmapgl"
           }
          ],
          "histogram": [
           {
            "marker": {
             "pattern": {
              "fillmode": "overlay",
              "size": 10,
              "solidity": 0.2
             }
            },
            "type": "histogram"
           }
          ],
          "histogram2d": [
           {
            "colorbar": {
             "outlinewidth": 0,
             "ticks": ""
            },
            "colorscale": [
             [
              0,
              "#0d0887"
             ],
             [
              0.1111111111111111,
              "#46039f"
             ],
             [
              0.2222222222222222,
              "#7201a8"
             ],
             [
              0.3333333333333333,
              "#9c179e"
             ],
             [
              0.4444444444444444,
              "#bd3786"
             ],
             [
              0.5555555555555556,
              "#d8576b"
             ],
             [
              0.6666666666666666,
              "#ed7953"
             ],
             [
              0.7777777777777778,
              "#fb9f3a"
             ],
             [
              0.8888888888888888,
              "#fdca26"
             ],
             [
              1,
              "#f0f921"
             ]
            ],
            "type": "histogram2d"
           }
          ],
          "histogram2dcontour": [
           {
            "colorbar": {
             "outlinewidth": 0,
             "ticks": ""
            },
            "colorscale": [
             [
              0,
              "#0d0887"
             ],
             [
              0.1111111111111111,
              "#46039f"
             ],
             [
              0.2222222222222222,
              "#7201a8"
             ],
             [
              0.3333333333333333,
              "#9c179e"
             ],
             [
              0.4444444444444444,
              "#bd3786"
             ],
             [
              0.5555555555555556,
              "#d8576b"
             ],
             [
              0.6666666666666666,
              "#ed7953"
             ],
             [
              0.7777777777777778,
              "#fb9f3a"
             ],
             [
              0.8888888888888888,
              "#fdca26"
             ],
             [
              1,
              "#f0f921"
             ]
            ],
            "type": "histogram2dcontour"
           }
          ],
          "mesh3d": [
           {
            "colorbar": {
             "outlinewidth": 0,
             "ticks": ""
            },
            "type": "mesh3d"
           }
          ],
          "parcoords": [
           {
            "line": {
             "colorbar": {
              "outlinewidth": 0,
              "ticks": ""
             }
            },
            "type": "parcoords"
           }
          ],
          "pie": [
           {
            "automargin": true,
            "type": "pie"
           }
          ],
          "scatter": [
           {
            "marker": {
             "colorbar": {
              "outlinewidth": 0,
              "ticks": ""
             }
            },
            "type": "scatter"
           }
          ],
          "scatter3d": [
           {
            "line": {
             "colorbar": {
              "outlinewidth": 0,
              "ticks": ""
             }
            },
            "marker": {
             "colorbar": {
              "outlinewidth": 0,
              "ticks": ""
             }
            },
            "type": "scatter3d"
           }
          ],
          "scattercarpet": [
           {
            "marker": {
             "colorbar": {
              "outlinewidth": 0,
              "ticks": ""
             }
            },
            "type": "scattercarpet"
           }
          ],
          "scattergeo": [
           {
            "marker": {
             "colorbar": {
              "outlinewidth": 0,
              "ticks": ""
             }
            },
            "type": "scattergeo"
           }
          ],
          "scattergl": [
           {
            "marker": {
             "colorbar": {
              "outlinewidth": 0,
              "ticks": ""
             }
            },
            "type": "scattergl"
           }
          ],
          "scattermapbox": [
           {
            "marker": {
             "colorbar": {
              "outlinewidth": 0,
              "ticks": ""
             }
            },
            "type": "scattermapbox"
           }
          ],
          "scatterpolar": [
           {
            "marker": {
             "colorbar": {
              "outlinewidth": 0,
              "ticks": ""
             }
            },
            "type": "scatterpolar"
           }
          ],
          "scatterpolargl": [
           {
            "marker": {
             "colorbar": {
              "outlinewidth": 0,
              "ticks": ""
             }
            },
            "type": "scatterpolargl"
           }
          ],
          "scatterternary": [
           {
            "marker": {
             "colorbar": {
              "outlinewidth": 0,
              "ticks": ""
             }
            },
            "type": "scatterternary"
           }
          ],
          "surface": [
           {
            "colorbar": {
             "outlinewidth": 0,
             "ticks": ""
            },
            "colorscale": [
             [
              0,
              "#0d0887"
             ],
             [
              0.1111111111111111,
              "#46039f"
             ],
             [
              0.2222222222222222,
              "#7201a8"
             ],
             [
              0.3333333333333333,
              "#9c179e"
             ],
             [
              0.4444444444444444,
              "#bd3786"
             ],
             [
              0.5555555555555556,
              "#d8576b"
             ],
             [
              0.6666666666666666,
              "#ed7953"
             ],
             [
              0.7777777777777778,
              "#fb9f3a"
             ],
             [
              0.8888888888888888,
              "#fdca26"
             ],
             [
              1,
              "#f0f921"
             ]
            ],
            "type": "surface"
           }
          ],
          "table": [
           {
            "cells": {
             "fill": {
              "color": "#EBF0F8"
             },
             "line": {
              "color": "white"
             }
            },
            "header": {
             "fill": {
              "color": "#C8D4E3"
             },
             "line": {
              "color": "white"
             }
            },
            "type": "table"
           }
          ]
         },
         "layout": {
          "annotationdefaults": {
           "arrowcolor": "#2a3f5f",
           "arrowhead": 0,
           "arrowwidth": 1
          },
          "autotypenumbers": "strict",
          "coloraxis": {
           "colorbar": {
            "outlinewidth": 0,
            "ticks": ""
           }
          },
          "colorscale": {
           "diverging": [
            [
             0,
             "#8e0152"
            ],
            [
             0.1,
             "#c51b7d"
            ],
            [
             0.2,
             "#de77ae"
            ],
            [
             0.3,
             "#f1b6da"
            ],
            [
             0.4,
             "#fde0ef"
            ],
            [
             0.5,
             "#f7f7f7"
            ],
            [
             0.6,
             "#e6f5d0"
            ],
            [
             0.7,
             "#b8e186"
            ],
            [
             0.8,
             "#7fbc41"
            ],
            [
             0.9,
             "#4d9221"
            ],
            [
             1,
             "#276419"
            ]
           ],
           "sequential": [
            [
             0,
             "#0d0887"
            ],
            [
             0.1111111111111111,
             "#46039f"
            ],
            [
             0.2222222222222222,
             "#7201a8"
            ],
            [
             0.3333333333333333,
             "#9c179e"
            ],
            [
             0.4444444444444444,
             "#bd3786"
            ],
            [
             0.5555555555555556,
             "#d8576b"
            ],
            [
             0.6666666666666666,
             "#ed7953"
            ],
            [
             0.7777777777777778,
             "#fb9f3a"
            ],
            [
             0.8888888888888888,
             "#fdca26"
            ],
            [
             1,
             "#f0f921"
            ]
           ],
           "sequentialminus": [
            [
             0,
             "#0d0887"
            ],
            [
             0.1111111111111111,
             "#46039f"
            ],
            [
             0.2222222222222222,
             "#7201a8"
            ],
            [
             0.3333333333333333,
             "#9c179e"
            ],
            [
             0.4444444444444444,
             "#bd3786"
            ],
            [
             0.5555555555555556,
             "#d8576b"
            ],
            [
             0.6666666666666666,
             "#ed7953"
            ],
            [
             0.7777777777777778,
             "#fb9f3a"
            ],
            [
             0.8888888888888888,
             "#fdca26"
            ],
            [
             1,
             "#f0f921"
            ]
           ]
          },
          "colorway": [
           "#636efa",
           "#EF553B",
           "#00cc96",
           "#ab63fa",
           "#FFA15A",
           "#19d3f3",
           "#FF6692",
           "#B6E880",
           "#FF97FF",
           "#FECB52"
          ],
          "font": {
           "color": "#2a3f5f"
          },
          "geo": {
           "bgcolor": "white",
           "lakecolor": "white",
           "landcolor": "#E5ECF6",
           "showlakes": true,
           "showland": true,
           "subunitcolor": "white"
          },
          "hoverlabel": {
           "align": "left"
          },
          "hovermode": "closest",
          "mapbox": {
           "style": "light"
          },
          "paper_bgcolor": "white",
          "plot_bgcolor": "#E5ECF6",
          "polar": {
           "angularaxis": {
            "gridcolor": "white",
            "linecolor": "white",
            "ticks": ""
           },
           "bgcolor": "#E5ECF6",
           "radialaxis": {
            "gridcolor": "white",
            "linecolor": "white",
            "ticks": ""
           }
          },
          "scene": {
           "xaxis": {
            "backgroundcolor": "#E5ECF6",
            "gridcolor": "white",
            "gridwidth": 2,
            "linecolor": "white",
            "showbackground": true,
            "ticks": "",
            "zerolinecolor": "white"
           },
           "yaxis": {
            "backgroundcolor": "#E5ECF6",
            "gridcolor": "white",
            "gridwidth": 2,
            "linecolor": "white",
            "showbackground": true,
            "ticks": "",
            "zerolinecolor": "white"
           },
           "zaxis": {
            "backgroundcolor": "#E5ECF6",
            "gridcolor": "white",
            "gridwidth": 2,
            "linecolor": "white",
            "showbackground": true,
            "ticks": "",
            "zerolinecolor": "white"
           }
          },
          "shapedefaults": {
           "line": {
            "color": "#2a3f5f"
           }
          },
          "ternary": {
           "aaxis": {
            "gridcolor": "white",
            "linecolor": "white",
            "ticks": ""
           },
           "baxis": {
            "gridcolor": "white",
            "linecolor": "white",
            "ticks": ""
           },
           "bgcolor": "#E5ECF6",
           "caxis": {
            "gridcolor": "white",
            "linecolor": "white",
            "ticks": ""
           }
          },
          "title": {
           "x": 0.05
          },
          "xaxis": {
           "automargin": true,
           "gridcolor": "white",
           "linecolor": "white",
           "ticks": "",
           "title": {
            "standoff": 15
           },
           "zerolinecolor": "white",
           "zerolinewidth": 2
          },
          "yaxis": {
           "automargin": true,
           "gridcolor": "white",
           "linecolor": "white",
           "ticks": "",
           "title": {
            "standoff": 15
           },
           "zerolinecolor": "white",
           "zerolinewidth": 2
          }
         }
        },
        "title": {
         "text": "Hyperparameter Importances"
        },
        "xaxis": {
         "autorange": true,
         "range": [
          0,
          1.0068961448833451
         ],
         "title": {
          "text": "Importance for Objective Value"
         },
         "type": "linear"
        },
        "yaxis": {
         "autorange": true,
         "range": [
          -0.5,
          3.5
         ],
         "title": {
          "text": "Hyperparameter"
         },
         "type": "category"
        }
       }
      },
      "image/png": "[encoded data removed]",
      "text/html": [
       "<div>                            <div id=\"84bc9f0e-304d-4eb5-9b72-07bd9c43dcd0\" class=\"plotly-graph-div\" style=\"height:525px; width:100%;\"></div>            <script type=\"text/javascript\">                require([\"plotly\"], function(Plotly) {                    window.PLOTLYENV=window.PLOTLYENV || {};                                    if (document.getElementById(\"84bc9f0e-304d-4eb5-9b72-07bd9c43dcd0\")) {                    Plotly.newPlot(                        \"84bc9f0e-304d-4eb5-9b72-07bd9c43dcd0\",                        [{\"cliponaxis\":false,\"hovertemplate\":[\"learning_rate (LogUniformDistribution): 0.004869849541492983<extra></extra>\",\"batch (IntUniformDistribution): 0.013717600473164025<extra></extra>\",\"epoch (IntUniformDistribution): 0.024861212346165062<extra></extra>\",\"hidden_neurons (IntUniformDistribution): 0.9565513376391779<extra></extra>\"],\"marker\":{\"color\":\"rgb(66,146,198)\"},\"orientation\":\"h\",\"text\":[\"0.004869849541492983\",\"0.013717600473164025\",\"0.024861212346165062\",\"0.9565513376391779\"],\"textposition\":\"outside\",\"texttemplate\":\"%{text:.2f}\",\"type\":\"bar\",\"x\":[0.004869849541492983,0.013717600473164025,0.024861212346165062,0.9565513376391779],\"y\":[\"learning_rate\",\"batch\",\"epoch\",\"hidden_neurons\"]}],                        {\"showlegend\":false,\"template\":{\"data\":{\"bar\":[{\"error_x\":{\"color\":\"#2a3f5f\"},\"error_y\":{\"color\":\"#2a3f5f\"},\"marker\":{\"line\":{\"color\":\"#E5ECF6\",\"width\":0.5},\"pattern\":{\"fillmode\":\"overlay\",\"size\":10,\"solidity\":0.2}},\"type\":\"bar\"}],\"barpolar\":[{\"marker\":{\"line\":{\"color\":\"#E5ECF6\",\"width\":0.5},\"pattern\":{\"fillmode\":\"overlay\",\"size\":10,\"solidity\":0.2}},\"type\":\"barpolar\"}],\"carpet\":[{\"aaxis\":{\"endlinecolor\":\"#2a3f5f\",\"gridcolor\":\"white\",\"linecolor\":\"white\",\"minorgridcolor\":\"white\",\"startlinecolor\":\"#2a3f5f\"},\"baxis\":{\"endlinecolor\":\"#2a3f5f\",\"gridcolor\":\"white\",\"linecolor\":\"white\",\"minorgridcolor\":\"white\",\"startlinecolor\":\"#2a3f5f\"},\"type\":\"carpet\"}],\"choropleth\":[{\"colorbar\":{\"outlinewidth\":0,\"ticks\":\"\"},\"type\":\"choropleth\"}],\"contour\":[{\"colorbar\":{\"outlinewidth\":0,\"ticks\":\"\"},\"colorscale\":[[0.0,\"#0d0887\"],[0.1111111111111111,\"#46039f\"],[0.2222222222222222,\"#7201a8\"],[0.3333333333333333,\"#9c179e\"],[0.4444444444444444,\"#bd3786\"],[0.5555555555555556,\"#d8576b\"],[0.6666666666666666,\"#ed7953\"],[0.7777777777777778,\"#fb9f3a\"],[0.8888888888888888,\"#fdca26\"],[1.0,\"#f0f921\"]],\"type\":\"contour\"}],\"contourcarpet\":[{\"colorbar\":{\"outlinewidth\":0,\"ticks\":\"\"},\"type\":\"contourcarpet\"}],\"heatmap\":[{\"colorbar\":{\"outlinewidth\":0,\"ticks\":\"\"},\"colorscale\":[[0.0,\"#0d0887\"],[0.1111111111111111,\"#46039f\"],[0.2222222222222222,\"#7201a8\"],[0.3333333333333333,\"#9c179e\"],[0.4444444444444444,\"#bd3786\"],[0.5555555555555556,\"#d8576b\"],[0.6666666666666666,\"#ed7953\"],[0.7777777777777778,\"#fb9f3a\"],[0.8888888888888888,\"#fdca26\"],[1.0,\"#f0f921\"]],\"type\":\"heatmap\"}],\"heatmapgl\":[{\"colorbar\":{\"outlinewidth\":0,\"ticks\":\"\"},\"colorscale\":[[0.0,\"#0d0887\"],[0.1111111111111111,\"#46039f\"],[0.2222222222222222,\"#7201a8\"],[0.3333333333333333,\"#9c179e\"],[0.4444444444444444,\"#bd3786\"],[0.5555555555555556,\"#d8576b\"],[0.6666666666666666,\"#ed7953\"],[0.7777777777777778,\"#fb9f3a\"],[0.8888888888888888,\"#fdca26\"],[1.0,\"#f0f921\"]],\"type\":\"heatmapgl\"}],\"histogram\":[{\"marker\":{\"pattern\":{\"fillmode\":\"overlay\",\"size\":10,\"solidity\":0.2}},\"type\":\"histogram\"}],\"histogram2d\":[{\"colorbar\":{\"outlinewidth\":0,\"ticks\":\"\"},\"colorscale\":[[0.0,\"#0d0887\"],[0.1111111111111111,\"#46039f\"],[0.2222222222222222,\"#7201a8\"],[0.3333333333333333,\"#9c179e\"],[0.4444444444444444,\"#bd3786\"],[0.5555555555555556,\"#d8576b\"],[0.6666666666666666,\"#ed7953\"],[0.7777777777777778,\"#fb9f3a\"],[0.8888888888888888,\"#fdca26\"],[1.0,\"#f0f921\"]],\"type\":\"histogram2d\"}],\"histogram2dcontour\":[{\"colorbar\":{\"outlinewidth\":0,\"ticks\":\"\"},\"colorscale\":[[0.0,\"#0d0887\"],[0.1111111111111111,\"#46039f\"],[0.2222222222222222,\"#7201a8\"],[0.3333333333333333,\"#9c179e\"],[0.4444444444444444,\"#bd3786\"],[0.5555555555555556,\"#d8576b\"],[0.6666666666666666,\"#ed7953\"],[0.7777777777777778,\"#fb9f3a\"],[0.8888888888888888,\"#fdca26\"],[1.0,\"#f0f921\"]],\"type\":\"histogram2dcontour\"}],\"mesh3d\":[{\"colorbar\":{\"outlinewidth\":0,\"ticks\":\"\"},\"type\":\"mesh3d\"}],\"parcoords\":[{\"line\":{\"colorbar\":{\"outlinewidth\":0,\"ticks\":\"\"}},\"type\":\"parcoords\"}],\"pie\":[{\"automargin\":true,\"type\":\"pie\"}],\"scatter\":[{\"marker\":{\"colorbar\":{\"outlinewidth\":0,\"ticks\":\"\"}},\"type\":\"scatter\"}],\"scatter3d\":[{\"line\":{\"colorbar\":{\"outlinewidth\":0,\"ticks\":\"\"}},\"marker\":{\"colorbar\":{\"outlinewidth\":0,\"ticks\":\"\"}},\"type\":\"scatter3d\"}],\"scattercarpet\":[{\"marker\":{\"colorbar\":{\"outlinewidth\":0,\"ticks\":\"\"}},\"type\":\"scattercarpet\"}],\"scattergeo\":[{\"marker\":{\"colorbar\":{\"outlinewidth\":0,\"ticks\":\"\"}},\"type\":\"scattergeo\"}],\"scattergl\":[{\"marker\":{\"colorbar\":{\"outlinewidth\":0,\"ticks\":\"\"}},\"type\":\"scattergl\"}],\"scattermapbox\":[{\"marker\":{\"colorbar\":{\"outlinewidth\":0,\"ticks\":\"\"}},\"type\":\"scattermapbox\"}],\"scatterpolar\":[{\"marker\":{\"colorbar\":{\"outlinewidth\":0,\"ticks\":\"\"}},\"type\":\"scatterpolar\"}],\"scatterpolargl\":[{\"marker\":{\"colorbar\":{\"outlinewidth\":0,\"ticks\":\"\"}},\"type\":\"scatterpolargl\"}],\"scatterternary\":[{\"marker\":{\"colorbar\":{\"outlinewidth\":0,\"ticks\":\"\"}},\"type\":\"scatterternary\"}],\"surface\":[{\"colorbar\":{\"outlinewidth\":0,\"ticks\":\"\"},\"colorscale\":[[0.0,\"#0d0887\"],[0.1111111111111111,\"#46039f\"],[0.2222222222222222,\"#7201a8\"],[0.3333333333333333,\"#9c179e\"],[0.4444444444444444,\"#bd3786\"],[0.5555555555555556,\"#d8576b\"],[0.6666666666666666,\"#ed7953\"],[0.7777777777777778,\"#fb9f3a\"],[0.8888888888888888,\"#fdca26\"],[1.0,\"#f0f921\"]],\"type\":\"surface\"}],\"table\":[{\"cells\":{\"fill\":{\"color\":\"#EBF0F8\"},\"line\":{\"color\":\"white\"}},\"header\":{\"fill\":{\"color\":\"#C8D4E3\"},\"line\":{\"color\":\"white\"}},\"type\":\"table\"}]},\"layout\":{\"annotationdefaults\":{\"arrowcolor\":\"#2a3f5f\",\"arrowhead\":0,\"arrowwidth\":1},\"autotypenumbers\":\"strict\",\"coloraxis\":{\"colorbar\":{\"outlinewidth\":0,\"ticks\":\"\"}},\"colorscale\":{\"diverging\":[[0,\"#8e0152\"],[0.1,\"#c51b7d\"],[0.2,\"#de77ae\"],[0.3,\"#f1b6da\"],[0.4,\"#fde0ef\"],[0.5,\"#f7f7f7\"],[0.6,\"#e6f5d0\"],[0.7,\"#b8e186\"],[0.8,\"#7fbc41\"],[0.9,\"#4d9221\"],[1,\"#276419\"]],\"sequential\":[[0.0,\"#0d0887\"],[0.1111111111111111,\"#46039f\"],[0.2222222222222222,\"#7201a8\"],[0.3333333333333333,\"#9c179e\"],[0.4444444444444444,\"#bd3786\"],[0.5555555555555556,\"#d8576b\"],[0.6666666666666666,\"#ed7953\"],[0.7777777777777778,\"#fb9f3a\"],[0.8888888888888888,\"#fdca26\"],[1.0,\"#f0f921\"]],\"sequentialminus\":[[0.0,\"#0d0887\"],[0.1111111111111111,\"#46039f\"],[0.2222222222222222,\"#7201a8\"],[0.3333333333333333,\"#9c179e\"],[0.4444444444444444,\"#bd3786\"],[0.5555555555555556,\"#d8576b\"],[0.6666666666666666,\"#ed7953\"],[0.7777777777777778,\"#fb9f3a\"],[0.8888888888888888,\"#fdca26\"],[1.0,\"#f0f921\"]]},\"colorway\":[\"#636efa\",\"#EF553B\",\"#00cc96\",\"#ab63fa\",\"#FFA15A\",\"#19d3f3\",\"#FF6692\",\"#B6E880\",\"#FF97FF\",\"#FECB52\"],\"font\":{\"color\":\"#2a3f5f\"},\"geo\":{\"bgcolor\":\"white\",\"lakecolor\":\"white\",\"landcolor\":\"#E5ECF6\",\"showlakes\":true,\"showland\":true,\"subunitcolor\":\"white\"},\"hoverlabel\":{\"align\":\"left\"},\"hovermode\":\"closest\",\"mapbox\":{\"style\":\"light\"},\"paper_bgcolor\":\"white\",\"plot_bgcolor\":\"#E5ECF6\",\"polar\":{\"angularaxis\":{\"gridcolor\":\"white\",\"linecolor\":\"white\",\"ticks\":\"\"},\"bgcolor\":\"#E5ECF6\",\"radialaxis\":{\"gridcolor\":\"white\",\"linecolor\":\"white\",\"ticks\":\"\"}},\"scene\":{\"xaxis\":{\"backgroundcolor\":\"#E5ECF6\",\"gridcolor\":\"white\",\"gridwidth\":2,\"linecolor\":\"white\",\"showbackground\":true,\"ticks\":\"\",\"zerolinecolor\":\"white\"},\"yaxis\":{\"backgroundcolor\":\"#E5ECF6\",\"gridcolor\":\"white\",\"gridwidth\":2,\"linecolor\":\"white\",\"showbackground\":true,\"ticks\":\"\",\"zerolinecolor\":\"white\"},\"zaxis\":{\"backgroundcolor\":\"#E5ECF6\",\"gridcolor\":\"white\",\"gridwidth\":2,\"linecolor\":\"white\",\"showbackground\":true,\"ticks\":\"\",\"zerolinecolor\":\"white\"}},\"shapedefaults\":{\"line\":{\"color\":\"#2a3f5f\"}},\"ternary\":{\"aaxis\":{\"gridcolor\":\"white\",\"linecolor\":\"white\",\"ticks\":\"\"},\"baxis\":{\"gridcolor\":\"white\",\"linecolor\":\"white\",\"ticks\":\"\"},\"bgcolor\":\"#E5ECF6\",\"caxis\":{\"gridcolor\":\"white\",\"linecolor\":\"white\",\"ticks\":\"\"}},\"title\":{\"x\":0.05},\"xaxis\":{\"automargin\":true,\"gridcolor\":\"white\",\"linecolor\":\"white\",\"ticks\":\"\",\"title\":{\"standoff\":15},\"zerolinecolor\":\"white\",\"zerolinewidth\":2},\"yaxis\":{\"automargin\":true,\"gridcolor\":\"white\",\"linecolor\":\"white\",\"ticks\":\"\",\"title\":{\"standoff\":15},\"zerolinecolor\":\"white\",\"zerolinewidth\":2}}},\"title\":{\"text\":\"Hyperparameter Importances\"},\"xaxis\":{\"title\":{\"text\":\"Importance for Objective Value\"}},\"yaxis\":{\"title\":{\"text\":\"Hyperparameter\"}}},                        {\"responsive\": true}                    ).then(function(){\n",
       "                            \n",
       "var gd = document.getElementById('84bc9f0e-304d-4eb5-9b72-07bd9c43dcd0');\n",
       "var x = new MutationObserver(function (mutations, observer) {{\n",
       "        var display = window.getComputedStyle(gd).display;\n",
       "        if (!display || display === 'none') {{\n",
       "            console.log([gd, 'removed!']);\n",
       "            Plotly.purge(gd);\n",
       "            observer.disconnect();\n",
       "        }}\n",
       "}});\n",
       "\n",
       "// Listen for the removal of the full notebook cells\n",
       "var notebookContainer = gd.closest('#notebook-container');\n",
       "if (notebookContainer) {{\n",
       "    x.observe(notebookContainer, {childList: true});\n",
       "}}\n",
       "\n",
       "// Listen for the clearing of the current output cell\n",
       "var outputEl = gd.closest('.output');\n",
       "if (outputEl) {{\n",
       "    x.observe(outputEl, {childList: true});\n",
       "}}\n",
       "\n",
       "                        })                };                });            </script>        </div>"
      ]
     },
     "metadata": {},
     "output_type": "display_data"
    }
   ],
   "source": [
    "fig = optuna.visualization.plot_parallel_coordinate(study)\n",
    "fig.show()\n",
    "fig.write_image(\"results/parallel.jpg\", scale=3)\n",
    "\n",
    "fig = optuna.visualization.plot_param_importances(study)\n",
    "fig.show()\n",
    "fig.write_image(\"results/importance.jpg\", scale=3)"
   ]
  },
  {
   "cell_type": "code",
   "execution_count": null,
   "id": "false-upgrade",
   "metadata": {},
   "outputs": [],
   "source": []
  },
  {
   "cell_type": "code",
   "execution_count": null,
   "id": "mighty-dragon",
   "metadata": {},
   "outputs": [],
   "source": []
  },
  {
   "cell_type": "code",
   "execution_count": null,
   "id": "radical-fairy",
   "metadata": {},
   "outputs": [],
   "source": []
  }
 ],
 "metadata": {
  "kernelspec": {
   "display_name": "Python 3",
   "language": "python",
   "name": "python3"
  },
  "language_info": {
   "codemirror_mode": {
    "name": "ipython",
    "version": 3
   },
   "file_extension": ".py",
   "mimetype": "text/x-python",
   "name": "python",
   "nbconvert_exporter": "python",
   "pygments_lexer": "ipython3",
   "version": "3.8.8"
  }
 },
 "nbformat": 4,
 "nbformat_minor": 5
}
