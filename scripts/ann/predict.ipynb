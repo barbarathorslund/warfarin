{
 "cells": [
  {
   "cell_type": "markdown",
   "source": [
    "# Prediction of warfarin dose"
   ],
   "metadata": {}
  },
  {
   "cell_type": "markdown",
   "source": [
    "## Import libraries"
   ],
   "metadata": {}
  },
  {
   "cell_type": "code",
   "execution_count": 1,
   "source": [
    "from os import sep\n",
    "import torch\n",
    "import torch.nn as nn\n",
    "import torch.functional as F\n",
    "import numpy as np\n",
    "import torch.optim as optim\n",
    "import pylab\n",
    "import matplotlib.pyplot as plt\n",
    "import math\n",
    "\n",
    "from torch.utils.data import Dataset, DataLoader, SubsetRandomSampler\n",
    "\n",
    "from model import PicsModel\n",
    "from data_loader import PicsDataLoader"
   ],
   "outputs": [],
   "metadata": {}
  },
  {
   "cell_type": "markdown",
   "source": [
    "## Model parameters from hyperparameter optimization"
   ],
   "metadata": {}
  },
  {
   "cell_type": "code",
   "execution_count": 2,
   "source": [
    "params = {\n",
    "    'hidden_neurons': 376,\n",
    "    'learning_rate': 0.0017795585175007721,\n",
    "    'batch': 5,\n",
    "    'epochs': 17\n",
    "}"
   ],
   "outputs": [],
   "metadata": {}
  },
  {
   "cell_type": "markdown",
   "source": [
    "## Split training with holdout"
   ],
   "metadata": {}
  },
  {
   "cell_type": "code",
   "execution_count": 3,
   "source": [
    "def split(train_dataset, validation_split):\n",
    "    \"\"\" Creates a sampler to extract training and validation data\n",
    "    Args:\n",
    "        validation_split: decimal for the split of the validation\n",
    "    \"\"\"\n",
    "    # random indices based off the validation split\n",
    "    num_train = len(train_dataset)\n",
    "    train_indices = np.array(range(num_train))\n",
    "    validation_indices = np.random.choice(train_indices, int(\n",
    "        num_train * validation_split), replace=False)\n",
    "\n",
    "    train_indices = np.delete(train_indices, validation_indices)\n",
    "\n",
    "    # subset the dataset\n",
    "    train_idx, valid_idx = train_indices, validation_indices\n",
    "    train_sampler = SubsetRandomSampler(train_idx)\n",
    "    valid_sampler = SubsetRandomSampler(valid_idx)\n",
    "\n",
    "    return train_sampler, valid_sampler"
   ],
   "outputs": [],
   "metadata": {}
  },
  {
   "cell_type": "markdown",
   "source": [
    "## Training"
   ],
   "metadata": {}
  },
  {
   "cell_type": "code",
   "execution_count": 8,
   "source": [
    "pics_dataloader = PicsDataLoader(\"data/pics_training_data_no_na.csv\")\n",
    "pics_dataloader_test = PicsDataLoader(\"data/pics_training_data_no_na_test.csv\")\n",
    "train_sampler, validation_sampler = split(pics_dataloader, 0.2)\n",
    "\n",
    "train_loader = DataLoader(pics_dataloader, batch_size=params['batch'], sampler=train_sampler)\n",
    "validation_loader = DataLoader(pics_dataloader, batch_size=params['batch'], sampler=validation_sampler)\n",
    "test_loader = DataLoader(pics_dataloader_test, batch_size=params['batch'])\n",
    "\n",
    "pics_model = PicsModel(params['hidden_neurons'])\n",
    "criterion = nn.MSELoss()\n",
    "\n",
    "# optimizer for model and criterion\n",
    "optimizer = optim.Adam(pics_model.parameters(), lr=params['learning_rate'])\n",
    "\n",
    "epochs = params['epochs']"
   ],
   "outputs": [],
   "metadata": {}
  },
  {
   "cell_type": "code",
   "execution_count": 9,
   "source": [
    "def training():\n",
    "    # iterate over the dataset multiple times\n",
    "    training_loss = []\n",
    "    validation_loss = []\n",
    "\n",
    "    for epoch in range(epochs):\n",
    "        print('Epoch:', epoch + 1,' of ', epochs)\n",
    "\n",
    "        # training of the model \n",
    "        running_loss = 0.0\n",
    "        for i, data in enumerate(train_loader, 0):\n",
    "\n",
    "            # move data tensors to GPU if possible\n",
    "            inputs, labels = data\n",
    "\n",
    "            outputs = pics_model(inputs)\n",
    "            # zero the parameter gradients\n",
    "            optimizer.zero_grad()\n",
    "            # backpropagation by custom criterion\n",
    "            loss = criterion(outputs, labels)\n",
    "            loss.backward()\n",
    "\n",
    "            optimizer.step()\n",
    "\n",
    "            running_loss += loss.item()\n",
    "\n",
    "        training_loss.append(running_loss / len(train_loader))\n",
    "        print(\"Training loss: \", round(training_loss[epoch], 3))\n",
    "\n",
    "        #validation of the model\n",
    "        running_loss = 0.0\n",
    "        with torch.no_grad():\n",
    "            for i, data in enumerate(validation_loader, 0):\n",
    "                \n",
    "                # move data tensors to GPU if possible\n",
    "                inputs, labels = data\n",
    "                outputs = pics_model(inputs)\n",
    "                loss = criterion(outputs, labels)\n",
    "                running_loss += loss.item()\n",
    "\n",
    "        validation_loss.append(running_loss / len(validation_loader))\n",
    "        print(\"Validation loss: \", round(validation_loss[epoch], 3))\n",
    "\n",
    "    print('Finished Training')\n",
    "    \n",
    "    return training_loss, validation_loss"
   ],
   "outputs": [],
   "metadata": {}
  },
  {
   "cell_type": "code",
   "execution_count": 10,
   "source": [
    "def plot_loss(training_loss, validation_loss):\n",
    "    pylab.plot(training_loss)\n",
    "    pylab.plot(validation_loss)\n",
    "    pylab.xlabel('Epochs')\n",
    "    pylab.ylabel('Loss')\n",
    "    pylab.legend(('Training loss', 'Validation loss'))\n",
    "    pylab.title(\"\")\n",
    "    pylab.show()\n",
    "    plt.savefig(\"results/loss_progression.png\")"
   ],
   "outputs": [],
   "metadata": {}
  },
  {
   "cell_type": "code",
   "execution_count": 11,
   "source": [
    "train_l, val_l = training()\n",
    "\n",
    "plot_loss(train_l, val_l)"
   ],
   "outputs": [
    {
     "output_type": "stream",
     "name": "stdout",
     "text": [
      "Epoch: 1  of  17\n"
     ]
    },
    {
     "output_type": "stream",
     "name": "stderr",
     "text": [
      "/home/eryk/anaconda3/envs/nsp3/lib/python3.8/site-packages/torch/nn/modules/loss.py:528: UserWarning: Using a target size (torch.Size([5])) that is different to the input size (torch.Size([5, 1])). This will likely lead to incorrect results due to broadcasting. Please ensure they have the same size.\n",
      "  return F.mse_loss(input, target, reduction=self.reduction)\n"
     ]
    },
    {
     "output_type": "stream",
     "name": "stdout",
     "text": [
      "Training loss:  0.564\n",
      "Validation loss:  0.516\n",
      "Epoch: 2  of  17\n",
      "Training loss:  0.51\n",
      "Validation loss:  0.546\n",
      "Epoch: 3  of  17\n",
      "Training loss:  0.492\n",
      "Validation loss:  0.456\n",
      "Epoch: 4  of  17\n",
      "Training loss:  0.487\n",
      "Validation loss:  0.497\n",
      "Epoch: 5  of  17\n",
      "Training loss:  0.476\n",
      "Validation loss:  0.456\n",
      "Epoch: 6  of  17\n",
      "Training loss:  0.476\n",
      "Validation loss:  0.456\n",
      "Epoch: 7  of  17\n",
      "Training loss:  0.478\n",
      "Validation loss:  0.476\n",
      "Epoch: 8  of  17\n",
      "Training loss:  0.472\n",
      "Validation loss:  0.449\n",
      "Epoch: 9  of  17\n",
      "Training loss:  0.469\n",
      "Validation loss:  0.448\n",
      "Epoch: 10  of  17\n",
      "Training loss:  0.472\n",
      "Validation loss:  0.449\n",
      "Epoch: 11  of  17\n",
      "Training loss:  0.468\n",
      "Validation loss:  0.501\n",
      "Epoch: 12  of  17\n",
      "Training loss:  0.467\n",
      "Validation loss:  0.449\n",
      "Epoch: 13  of  17\n",
      "Training loss:  0.468\n",
      "Validation loss:  0.447\n",
      "Epoch: 14  of  17\n",
      "Training loss:  0.467\n",
      "Validation loss:  0.442\n",
      "Epoch: 15  of  17\n",
      "Training loss:  0.467\n",
      "Validation loss:  0.455\n",
      "Epoch: 16  of  17\n",
      "Training loss:  0.467\n",
      "Validation loss:  0.459\n",
      "Epoch: 17  of  17\n",
      "Training loss:  0.464\n",
      "Validation loss:  0.45\n",
      "Finished Training\n"
     ]
    },
    {
     "output_type": "display_data",
     "data": {
      "text/plain": [
       "<Figure size 432x288 with 1 Axes>"
      ],
      "image/png": "[encoded data removed]"
     },
     "metadata": {
      "needs_background": "light"
     }
    },
    {
     "output_type": "display_data",
     "data": {
      "text/plain": [
       "<Figure size 432x288 with 0 Axes>"
      ]
     },
     "metadata": {}
    }
   ],
   "metadata": {}
  },
  {
   "cell_type": "markdown",
   "source": [
    "## Evaluation"
   ],
   "metadata": {}
  },
  {
   "cell_type": "code",
   "execution_count": 12,
   "source": [
    "def mae(pred, labels):\n",
    "    \"\"\" Returns mean absolute error\n",
    "    Args:\n",
    "        inputs: tensor with predicted values\n",
    "        labels: tensor with correct values\n",
    "    \"\"\"\n",
    "    err = torch.abs(labels - pred)\n",
    "    return torch.mean(err).item()"
   ],
   "outputs": [],
   "metadata": {}
  },
  {
   "cell_type": "code",
   "execution_count": 13,
   "source": [
    "def evaluation():\n",
    "    accuracy = float()\n",
    "    # iterate through the evaluation dataset\n",
    "\n",
    "    i = 0\n",
    "    with torch.no_grad():\n",
    "        for data in test_loader:\n",
    "            # move data tensors to GPU if possible\n",
    "            inputs, labels = data\n",
    "            outputs = pics_model(inputs)\n",
    "            accuracy += mae(outputs, labels)\n",
    "            #breakpoint()\n",
    "            i+=1\n",
    "        \n",
    "    accuracy = accuracy / i\n",
    "\n",
    "    print(accuracy)"
   ],
   "outputs": [],
   "metadata": {}
  },
  {
   "cell_type": "code",
   "execution_count": 14,
   "source": [
    "evaluation()"
   ],
   "outputs": [
    {
     "output_type": "stream",
     "name": "stdout",
     "text": [
      "0.51849799528718\n"
     ]
    }
   ],
   "metadata": {}
  },
  {
   "cell_type": "code",
   "execution_count": null,
   "source": [],
   "outputs": [],
   "metadata": {}
  }
 ],
 "metadata": {
  "kernelspec": {
   "display_name": "Python 3",
   "language": "python",
   "name": "python3"
  },
  "language_info": {
   "codemirror_mode": {
    "name": "ipython",
    "version": 3
   },
   "file_extension": ".py",
   "mimetype": "text/x-python",
   "name": "python",
   "nbconvert_exporter": "python",
   "pygments_lexer": "ipython3",
   "version": "3.8.8"
  }
 },
 "nbformat": 4,
 "nbformat_minor": 5
}